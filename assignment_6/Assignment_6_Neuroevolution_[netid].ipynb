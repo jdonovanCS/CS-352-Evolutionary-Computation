{
 "cells": [
  {
   "cell_type": "markdown",
   "metadata": {},
   "source": [
    "# Assignment 6: Neuroevolution\n",
    "In our last assignment, we explored the week's major idea (representation and genetic encoding) in a more realistic application in the Traveling Salesman Problem.  This week we'll follow that trend and explore the ideas around mutation rates and measuring diversity in the setting of evoliving artificial neural networks (Neuroevolution).  While neuroevolution really shines outside of standard machine learning benchmarks, for the sake of simplicity, we'll use one of the most basic benchmarks for neural networks, classification of handwritten digits in MNIST.  "
   ]
  },
  {
   "cell_type": "code",
   "execution_count": 1,
   "metadata": {},
   "outputs": [],
   "source": [
    "# imports\n",
    "import numpy as np\n",
    "import copy\n",
    "import matplotlib.pyplot as plt\n",
    "plt.style.use('seaborn')\n",
    "\n",
    "import scikits.bootstrap as bootstrap\n",
    "import warnings\n",
    "warnings.filterwarnings('ignore') # Danger, Will Robinson! (not a scalable hack, and may surpress other helpful warning other than for ill-conditioned bootstrapped CI distributions)\n",
    "\n",
    "import scipy.stats # for finding statistical significance\n",
    "\n",
    "import time"
   ]
  },
  {
   "cell_type": "markdown",
   "metadata": {},
   "source": [
    "I've taken the liberty to preprocess MNIST for you by deskewing (standard preprocessing step to straigthen tilted images) and downscaling the images from `28x28` to `14x14` to try and keep out genome size down (at the cost of losing some resolution/information in the images), split out the labels (turning them into one-hot encodings), and separating the train and test sets.  If you aren't familiar with machine learning practices like this, don't worry about it -- just load the datasets below.\n",
    "\n",
    "*Note:* This dataset contains 60,000 training examples, and 10,000 testing examples.  This is likely far overkill for what we need, so if your machine is struggling with the size of the dataset, feel free to use only a small portion of the training examples/labels provided (doing so didn't effect runtime much on my laptop, but your mileage may vary)"
   ]
  },
  {
   "cell_type": "code",
   "execution_count": 2,
   "metadata": {},
   "outputs": [],
   "source": [
    "train_x = np.loadtxt(\"train_x.csv\", delimiter=',')\n",
    "test_x = np.loadtxt(\"test_x.csv\", delimiter=',')\n",
    "train_y = np.loadtxt(\"train_y.csv\", delimiter=',')\n",
    "test_y = np.loadtxt(\"test_y.csv\", delimiter=',')"
   ]
  },
  {
   "cell_type": "markdown",
   "metadata": {},
   "source": [
    "Let's take a look at the images!"
   ]
  },
  {
   "cell_type": "code",
   "execution_count": 3,
   "metadata": {},
   "outputs": [
    {
     "data": {
      "image/png": "[encoded data removed]",
      "text/plain": [
       "<Figure size 1296x216 with 6 Axes>"
      ]
     },
     "metadata": {},
     "output_type": "display_data"
    }
   ],
   "source": [
    "# This is what the image looks like\n",
    "num_images = 6\n",
    "fig, axs = plt.subplots(1, num_images, figsize=(3*num_images, 3), sharey=True)\n",
    "for i in range(num_images):\n",
    "    axs[i].imshow(train_x[i].reshape(14,14)) # we will keep the images flat to easily feed them into the neural network, but we need them back in a square shape to visualize\n",
    "    axs[i].grid(False)\n",
    "    axs[i].axis('off')\n",
    "    axs[i].set_title(\"Label:\"+str(np.argmax(train_y[i]))) # the argmax takes out one-hot encoding and turns it into a readable label"
   ]
  },
  {
   "cell_type": "markdown",
   "metadata": {},
   "source": [
    "### Q1: Implementation\n",
    "Our individual solutions this week will be (again keeping things overly simplistic) single-layer neural networks.  These networks are defined by a single weight matrix with input dimenion of the size of the flattened image (`14*14=196`) and output dimension of the size of the number of possible classes (`10`).  Feel free to implement the genome as the weight matrix, or simply as a flattened float vector of size `1960`.  "
   ]
  },
  {
   "cell_type": "code",
   "execution_count": 5,
   "metadata": {},
   "outputs": [],
   "source": [
    "class Individual:\n",
    "    \n",
    "    def __init__(self, fitness_function, genome_length):\n",
    "        self.fitness_function = fitness_function\n",
    "        self.genome = np.random.uniform(0,1,genome_length)\n",
    "        \n",
    "    def eval_fitness(self):\n",
    "        self.fitness = self.fitness_function(self.genome)"
   ]
  },
  {
   "cell_type": "markdown",
   "metadata": {},
   "source": [
    "There are two main ways to measure the performance of a neural network, loss and accuracy.  For the sake of intuition, let's use accuracy here, but I'm providing the implementaition of loss just in case you want to play around with it as well (thought returning the negative of the loss, as the smaller magnitudes are better so this allows us to continue going \"uphill\" if we do ever choose to optimize for loss).  \n",
    "\n",
    "As we haven't covered neural networks, I'm also providing the implementation of a single layer neural network (desite its apparent simplicity compared to mult-layer networks) in the fitness function below.  "
   ]
  },
  {
   "cell_type": "code",
   "execution_count": 6,
   "metadata": {},
   "outputs": [],
   "source": [
    "def accuracy(output, y):\n",
    "    return np.sum(np.isclose(np.argmax(output,axis=1),np.argmax(y,axis=1)))/y.shape[0]\n",
    "\n",
    "def loss (output, y):\n",
    "    return -np.sum(np.square(output-y))/y.shape[0]\n",
    "\n",
    "def neural_network_fitness(weights,x=train_x,y=train_y):\n",
    "    weight_matrix = weights.reshape((14*14,10)) \n",
    "    output = x.dot(weight_matrix)\n",
    "    return accuracy(output,y)"
   ]
  },
  {
   "cell_type": "markdown",
   "metadata": {},
   "source": [
    "### Q1b: Real-valued mutation\n",
    "\n",
    "In class, we've only alluded indrectly to mutating vectors of floats as genomes (like neural network weights).  Let's play around with the implmentations of these.  For simplicity, we'll ignore crossover for now.  Rather than flipping a given number of bits, let's try adding a small random value to each gene's value by adding `(np.random.rand(genome_length)*2-1)*mutation_size` to the genome. This takes a uniform distribution, normalizes it to be between -1 and 1, then scales it by some `mutation_size` scaling factor that you can pass into your `evolutionary_algorithm` function.  "
   ]
  },
  {
   "cell_type": "markdown",
   "metadata": {},
   "source": [
    "### Q1c: Diversity Tracking\n",
    "\n",
    "In addition to keeping track of the best genome, and fitness at each generation, let's also record the diversity of the population at each generation.  The metric we talked about most in class was measuring genotypic diversity with the average standard deviation of the distribution across the population of the values for each gene.  "
   ]
  },
  {
   "cell_type": "code",
   "execution_count": 39,
   "metadata": {},
   "outputs": [],
   "source": [
    "def evolutionary_algorithm(fitness_function=None, total_generations=100, num_parents=10, num_children=10, genome_length=10, num_elements_to_mutate=1, mutation_size=0.1, crossover=True, tournament_size=4, num_tournament_winners=2):\n",
    "    \"\"\" Evolutinary Algorithm (copied from the basic hillclimber in our last assignment)\n",
    "        \n",
    "        parameters: \n",
    "        fitness_funciton: (callable function) that return the fitness of a genome \n",
    "                           given the genome as an input parameter (e.g. as defined in Landscape)\n",
    "        total_generations: (int) number of total iterations for stopping condition\n",
    "        num_parents: (int) the number of parents we downselect to at each generation (mu)\n",
    "        num_childre: (int) the number of children (note: parents not included in this count) that we baloon to each generation (lambda)\n",
    "        genome_length: (int) length of the genome to be evoloved\n",
    "        num_elements_to_mutate: (int) number of alleles to modify during mutation (0 = no mutation)\n",
    "        mutation_size: (float) scaling parameter of the magnitidue of mutations for floating point vectors\n",
    "        crossover: (bool) whether to perform crossover when generating children \n",
    "        tournament_size: (int) number of individuals competing in each tournament\n",
    "        num_tournament_winners: (int) number of individuals selected as future parents from each tournament (must be less than tournament_size)\n",
    "        \n",
    "        returns:\n",
    "        fitness_over_time: (numpy array) track record of the top fitness value at each generation\n",
    "        solutions_over_time: (numpy array) track record of the top genome value at each generation\n",
    "        diversity_over_time: (numpy array) track record of the population genetic diversity at each generation\n",
    "    \"\"\"\n",
    "\n",
    "    # initialize record keeping\n",
    "    solution = None # best genome so far\n",
    "    solution_fitness = -99999 # fitness of best genome so far\n",
    "    solution_generation = 0 # time (generations) when solution was found\n",
    "    fitness_over_time = np.zeros(total_generations)\n",
    "    solutions_over_time = np.zeros((total_generations,genome_length),dtype=int)\n",
    "    diversity_over_time = np.zeros(total_generations)\n",
    "    \n",
    "    # the initialization proceedure\n",
    "    population = [] # keep population of individuals in a list\n",
    "    for i in range(num_parents): # only create parents for initialization (the mu in mu+lambda)\n",
    "        population.append(Individual(fitness_function,genome_length)) # generate new random individuals as parents\n",
    "    \n",
    "    # get population fitness\n",
    "    for i in range(len(population)):\n",
    "        population[i].eval_fitness() # evaluate the fitness of each parent\n",
    "    \n",
    "    for generation_num in range(total_generations): # repeat\n",
    "        \n",
    "#         print(generation_num)\n",
    "        \n",
    "        # the modification procedure\n",
    "        new_children = [] # keep children separate for now (lambda in mu+lambda)\n",
    "        while len(new_children) < num_children:\n",
    "            \n",
    "            # inheretance\n",
    "            [parent1, parent2] = np.random.choice(population, size=2) # pick 2 random parents\n",
    "            child1 = copy.deepcopy(parent1) # initialize children as perfect copies of their parents\n",
    "            child2 = copy.deepcopy(parent2)\n",
    "            \n",
    "#           # crossover\n",
    "            if crossover:\n",
    "                for child, this_parent, other_parent in [[child1, parent1, parent2],[child2, parent2, parent1]]:\n",
    "                    child.genome = -1*np.ones(len(child.genome))\n",
    "                    child.genome[0] = this_parent.genome[0]\n",
    "                    next_index = np.where(other_parent.genome == this_parent.genome[0])\n",
    "                    while next_index != 0:\n",
    "                        child.genome[next_index] = this_parent.genome[next_index]\n",
    "                        next_index = np.where(other_parent.genome == child.genome[next_index])[0]\n",
    "                    child.genome[np.where(child.genome == -1)] = other_parent.genome[np.where(child.genome == -1)]\n",
    "                    child.genome = child.genome.astype(int)\n",
    "        \n",
    "            # mutation\n",
    "            for this_child in [child1,child2]:\n",
    "                for _ in range(num_elements_to_mutate):\n",
    "#                     [index_to_swap1, index_to_swap2] = np.random.randint(0,genome_length,2)\n",
    "#                     while index_to_swap1 == index_to_swap2: [index_to_swap1, index_to_swap2] = np.random.randint(0,genome_length,2)\n",
    "#                     orig_gene_1 = this_child.genome[index_to_swap1]\n",
    "#                     this_child.genome = np.delete(this_child.genome,index_to_swap1)\n",
    "#                     this_child.genome = np.insert(this_child.genome,index_to_swap2,orig_gene_1)\n",
    "                    this_child.genome = this_child.genome + (np.random.rand(genome_length)*2-1)*mutation_size\n",
    "\n",
    "            new_children.extend((child1,child2)) # add children to the new_children list\n",
    "            \n",
    "        # the assessement procedure\n",
    "        for i in range(len(new_children)):\n",
    "            new_children[i].eval_fitness() # assign fitness to each child \n",
    "\n",
    "        # selection procedure\n",
    "        population += new_children # combine parents with new children (the + in mu+lambda)\n",
    "        population = sorted(population, key=lambda individual: individual.fitness, reverse = True) # sort the full population by each individual's fitness (from highers to lowest)\n",
    "        \n",
    "        # tournament selection\n",
    "        new_population = []\n",
    "        new_population.append(population[0])\n",
    "        while len(new_population) < num_parents:\n",
    "            tournament = np.random.choice(population, size = tournament_size)\n",
    "            tournament = sorted(tournament, key=lambda individual: individual.fitness, reverse = True)\n",
    "            new_population.extend(tournament[:num_tournament_winners])    \n",
    "        population = new_population\n",
    "        \n",
    "        # record keeping\n",
    "        \n",
    "        if population[0].fitness > solution_fitness: # if the new parent is the best found so far\n",
    "            solution = population[0].genome                 # update best solution records\n",
    "            solution_fitness = population[0].fitness\n",
    "            solution_generation = generation_num\n",
    "        fitness_over_time[generation_num] = solution_fitness # record the fitness of the current best over evolutionary time\n",
    "        solutions_over_time[generation_num,:] = solution\n",
    "\n",
    "        all_gene_std = []\n",
    "        for x in range(genome_length):\n",
    "            this_gene_values=[]\n",
    "            for y in range(len(population)):\n",
    "                this_gene_values.append(population[y].genome[x])\n",
    "            all_gene_std.append(np.std(this_gene_values))\n",
    "        diversity_over_time[generation_num] = np.mean(all_gene_std)\n",
    "        \n",
    "    return fitness_over_time, solutions_over_time, diversity_over_time"
   ]
  },
  {
   "cell_type": "markdown",
   "metadata": {},
   "source": [
    "### Q2: Experimentation\n",
    "\n",
    "Due to the high dimensionality of this problem, the runs are a bit slower than before, so let's keep the scale small on this with just `50` generations and `5` repitions.  Hopefully this keeps things managable from a runtime persepctive (runs in a little over 30 seconds for each repition, or a little under 3 minutes for all 5, on my machine).  Let's use a mutation size of `1.0`, the same `50` parents and `50` children settings from last week, and a tournament size of `20`, choosing `10` winners.  \n",
    "\n",
    "*Hint:* If this still takes to long to run on your machine (especially while debugging/exploring code), feel free to run smaller test runs first by reducing the number of generations for the runs, plotting without bootstrapping, etc."
   ]
  },
  {
   "cell_type": "code",
   "execution_count": 40,
   "metadata": {},
   "outputs": [],
   "source": [
    "experiment_results = {}\n",
    "solutions_results = {}\n",
    "diversity_results = {}"
   ]
  },
  {
   "cell_type": "code",
   "execution_count": 41,
   "metadata": {
    "scrolled": true
   },
   "outputs": [
    {
     "name": "stdout",
     "output_type": "stream",
     "text": [
      "mutation_only 0 105.99584913253784 0.5202166666666667\n",
      "mutation_only 1 106.23305344581604 0.47358333333333336\n",
      "mutation_only 2 105.68558168411255 0.4451333333333333\n",
      "mutation_only 3 104.95845532417297 0.44398333333333334\n",
      "mutation_only 4 105.58599615097046 0.46776666666666666\n"
     ]
    }
   ],
   "source": [
    "num_runs = 5\n",
    "total_generations = 50\n",
    "genome_length = 14*14*10\n",
    "num_elements_to_mutate = genome_length\n",
    "mutation_size = 1.0\n",
    "num_parents = 50\n",
    "num_children = 50\n",
    "tournament_size = 20\n",
    "num_tournament_winners = 10\n",
    "fitness_function = neural_network_fitness\n",
    "crossover = False\n",
    "\n",
    "for run_name in [\"mutation_only\"]:\n",
    "    experiment_results[run_name] = np.zeros((num_runs, total_generations))\n",
    "    solutions_results[run_name] = np.zeros((num_runs, total_generations, genome_length))\n",
    "    diversity_results[run_name] = np.zeros((num_runs, total_generations))\n",
    "    for run_num in range(num_runs):       \n",
    "        start_time = time.time()\n",
    "        fitness_over_time, solutions_over_time, diversity_over_time = evolutionary_algorithm(fitness_function=fitness_function, total_generations=total_generations, num_parents=num_parents, num_children=num_children, genome_length=genome_length, num_elements_to_mutate=num_elements_to_mutate, crossover=crossover, tournament_size=tournament_size, num_tournament_winners=num_tournament_winners)\n",
    "        experiment_results[run_name][run_num] = fitness_over_time\n",
    "        solutions_results[run_name][run_num] = solutions_over_time\n",
    "        diversity_results[run_name][run_num] = diversity_over_time\n",
    "        print(run_name, run_num, time.time()-start_time,fitness_over_time[-1])"
   ]
  },
  {
   "cell_type": "markdown",
   "metadata": {},
   "source": [
    "### Q2b: Visualization\n",
    "Like last time, please plot the bootstrapped fitness values over time."
   ]
  },
  {
   "cell_type": "code",
   "execution_count": 42,
   "metadata": {},
   "outputs": [],
   "source": [
    "def plot_mean_and_bootstrapped_ci_over_time(input_data = None, name = \"change me\", x_label = \"change me\", y_label=\"change me\", y_limit = None, plot_bootstrap = True):\n",
    "    \"\"\"\n",
    "    \n",
    "    parameters: \n",
    "    input_data: (numpy array of shape (max_k, num_repitions)) solution metric to plot\n",
    "    name: (string) name for legend\n",
    "    x_label: (string) x axis label\n",
    "    y_label: (string) y axis label\n",
    "    \n",
    "    returns:\n",
    "    None\n",
    "    \"\"\"\n",
    "\n",
    "    print(input_data.shape)\n",
    "    generations = input_data.shape[0]\n",
    "\n",
    "    CIs = []\n",
    "    mean_values = []\n",
    "    for i in range(generations):\n",
    "        mean_values.append(np.mean(input_data[i]))\n",
    "        CIs.append(bootstrap.ci(input_data[i], statfunction=np.mean))\n",
    "    mean_values=np.array(mean_values)\n",
    "    \n",
    "    print(CIs)\n",
    "    high = []\n",
    "    low = []\n",
    "    for i in range(len(CIs)):\n",
    "        low.append(CIs[i][0])\n",
    "        high.append(CIs[i][1])\n",
    "    \n",
    "    low = np.array(low)\n",
    "    high = np.array(high)\n",
    "    fig, ax = plt.subplots()\n",
    "    y = range(0, generations)\n",
    "    ax.plot(y, mean_values, label=name)\n",
    "    ax.fill_between(y, high, low, color='b', alpha=.2)\n",
    "    ax.set_xlabel(x_label)\n",
    "    ax.set_ylabel(y_label)\n",
    "    ax.legend()\n",
    "    if (name) and len(name)>0:\n",
    "        ax.set_title(name)"
   ]
  },
  {
   "cell_type": "code",
   "execution_count": 43,
   "metadata": {},
   "outputs": [
    {
     "name": "stdout",
     "output_type": "stream",
     "text": [
      "(50, 5)\n",
      "[array([0.20702667, 0.23659333]), array([0.22110333, 0.24901333]), array([0.22425333, 0.25309667]), array([0.23076667, 0.25441667]), array([0.23747   , 0.25450333]), array([0.24807, 0.27686]), array([0.25638, 0.29037]), array([0.26177, 0.31738]), array([0.27003667, 0.3186    ]), array([0.26952333, 0.32225667]), array([0.28655667, 0.33385667]), array([0.28937667, 0.33417667]), array([0.28890667, 0.33417667]), array([0.29157333, 0.35129333]), array([0.29364333, 0.35972667]), array([0.29423   , 0.36148667]), array([0.30726667, 0.37057667]), array([0.30726667, 0.37057667]), array([0.31211667, 0.37300333]), array([0.31042333, 0.38298333]), array([0.32543667, 0.39209   ]), array([0.33347333, 0.40271333]), array([0.35085333, 0.40417333]), array([0.35179333, 0.40588333]), array([0.35218333, 0.40778667]), array([0.35375333, 0.41314333]), array([0.35638   , 0.41749333]), array([0.36030667, 0.42815333]), array([0.37832333, 0.42946333]), array([0.38381333, 0.43859   ]), array([0.38381333, 0.43869333]), array([0.38890667, 0.44392333]), array([0.38934   , 0.44392333]), array([0.39106   , 0.44143333]), array([0.39409667, 0.45060333]), array([0.40511333, 0.45144   ]), array([0.406  , 0.45707]), array([0.40670333, 0.45680667]), array([0.41789333, 0.45950667]), array([0.41917667, 0.45950667]), array([0.43041333, 0.47642333]), array([0.42974667, 0.47678   ]), array([0.43232667, 0.47875   ]), array([0.43378333, 0.47875   ]), array([0.43517667, 0.4839    ]), array([0.43600333, 0.48858333]), array([0.43950667, 0.48932667]), array([0.44564333, 0.49577333]), array([0.44812   , 0.49319667]), array([0.45036333, 0.5004    ])]\n"
     ]
    },
    {
     "data": {
      "image/png": "[encoded data removed]",
      "text/plain": [
       "<Figure size 576x396 with 1 Axes>"
      ]
     },
     "metadata": {},
     "output_type": "display_data"
    }
   ],
   "source": [
    "# plot fitness over time\n",
    "plot_mean_and_bootstrapped_ci_over_time(input_data=np.transpose(np.array(experiment_results['mutation_only'])), name='mutation_only', y_label=\"Fitness\", x_label='Generations')"
   ]
  },
  {
   "cell_type": "markdown",
   "metadata": {},
   "source": [
    "### Q3: Visualizing Diversity\n",
    "Please also plot the diveristy of our population over evolutionary time.  "
   ]
  },
  {
   "cell_type": "code",
   "execution_count": 44,
   "metadata": {},
   "outputs": [
    {
     "name": "stdout",
     "output_type": "stream",
     "text": [
      "(50, 5)\n",
      "[array([1.63889107, 1.80565008]), array([2.10462457, 2.38680837]), array([2.35397269, 2.79787932]), array([2.72355195, 3.15845761]), array([2.80790824, 3.25355958]), array([3.11277682, 3.50803828]), array([3.31854842, 3.74404904]), array([3.48889336, 4.00433845]), array([3.5345177 , 4.14225393]), array([3.66442273, 4.37107582]), array([3.76515597, 4.32150118]), array([3.70483771, 4.29565305]), array([3.58243146, 4.2119078 ]), array([3.50795931, 4.14844868]), array([3.70375615, 4.17007702]), array([3.69805414, 3.98740259]), array([3.69169745, 4.09174402]), array([3.53641527, 4.21167258]), array([3.58689107, 4.42603252]), array([3.72710066, 4.40495652]), array([3.73198775, 4.28176557]), array([3.73955574, 4.19489802]), array([3.48770185, 3.96529226]), array([3.28492374, 3.81528462]), array([2.90132356, 3.84347349]), array([2.99439515, 4.03757992]), array([3.29311493, 4.08548733]), array([2.81596995, 4.21512307]), array([2.91691355, 4.23345761]), array([3.05616068, 4.34644256]), array([3.35004051, 4.43707573]), array([3.73226627, 4.64949565]), array([3.90074788, 4.71629788]), array([3.90620483, 4.83196526]), array([3.84056321, 5.02778564]), array([3.25419952, 4.54212639]), array([3.23132893, 4.74028844]), array([3.15721626, 4.62434239]), array([3.17491847, 4.03883104]), array([3.25840679, 4.09402852]), array([3.07374869, 4.23826707]), array([3.16744634, 4.24095968]), array([3.20665929, 4.31643839]), array([3.35468856, 4.37866767]), array([3.45120735, 4.45554856]), array([3.43372319, 4.6349713 ]), array([3.48475177, 4.85461126]), array([3.44450101, 4.61240996]), array([3.42238331, 4.57741208]), array([3.47339179, 4.03278173])]\n"
     ]
    },
    {
     "data": {
      "image/png": "[encoded data removed]",
      "text/plain": [
       "<Figure size 576x396 with 1 Axes>"
      ]
     },
     "metadata": {},
     "output_type": "display_data"
    }
   ],
   "source": [
    "# plot diversity over time\n",
    "plot_mean_and_bootstrapped_ci_over_time(input_data=np.transpose(np.array(diversity_results['mutation_only'])), name='mutation_only', y_label=\"Fitness\", x_label='Generations')"
   ]
  },
  {
   "cell_type": "markdown",
   "metadata": {},
   "source": [
    "### Q3b: Analysis\n",
    "What do you notice about the diveristy over time?  Is this what you expected to tradeoff exploration and exploitation -- and how it related to fitness?  "
   ]
  },
  {
   "cell_type": "markdown",
   "metadata": {},
   "source": [
    "**insert text here**"
   ]
  },
  {
   "cell_type": "markdown",
   "metadata": {},
   "source": [
    "### Q4: Generalization to Test Datasets\n",
    "Whenever doing classification, it's good to make sure that your algorithm isn't overfitting to the training data.  Based on your intuition about diversity and overfitting, what do you expect this relationship to look like? "
   ]
  },
  {
   "cell_type": "markdown",
   "metadata": {},
   "source": [
    "**insert text here**"
   ]
  },
  {
   "cell_type": "markdown",
   "metadata": {},
   "source": [
    "### Q5: Evaluating Test Accuracy\n",
    "Since we already have test data loaded in above, let's evaluate your already trained algorithms (using your saved best-solution-so-far genomes at each generation) to see how test fitness tracks with the training fitness.  \n",
    "\n",
    "Please implement a script which calcualtes the test accuracy of the solutions over time below.\n",
    "\n",
    "*Hin:* Look for where the training set is used during fitness evaluation during training for ideas of what functions/syntax to use"
   ]
  },
  {
   "cell_type": "code",
   "execution_count": 52,
   "metadata": {},
   "outputs": [
    {
     "name": "stdout",
     "output_type": "stream",
     "text": [
      "[[0.2164 0.2269 0.2016 0.2115 0.2551 0.2551 0.299  0.3227 0.3227 0.3283\n",
      "  0.3451 0.3309 0.3309 0.3751 0.3751 0.3649 0.3884 0.3884 0.3909 0.4025\n",
      "  0.422  0.4179 0.4179 0.4179 0.4179 0.4396 0.4396 0.455  0.455  0.4733\n",
      "  0.4733 0.4733 0.4733 0.4733 0.4733 0.4733 0.4746 0.4746 0.4746 0.4746\n",
      "  0.4959 0.4959 0.4959 0.4959 0.497  0.5032 0.515  0.515  0.515  0.5289]\n",
      " [0.098  0.098  0.098  0.098  0.098  0.2629 0.2684 0.3402 0.3527 0.3527\n",
      "  0.319  0.319  0.319  0.3686 0.377  0.377  0.377  0.377  0.3761 0.3761\n",
      "  0.3875 0.4114 0.4114 0.4114 0.4114 0.4114 0.4219 0.4291 0.4291 0.4291\n",
      "  0.4291 0.4351 0.4351 0.4423 0.46   0.46   0.46   0.46   0.46   0.46\n",
      "  0.4692 0.4718 0.4718 0.4718 0.4718 0.4718 0.4666 0.4666 0.4543 0.4728]\n",
      " [0.2062 0.2373 0.2373 0.2373 0.2569 0.3179 0.3179 0.3179 0.3179 0.2889\n",
      "  0.2889 0.3002 0.3002 0.3188 0.3188 0.3186 0.3186 0.3201 0.3345 0.3648\n",
      "  0.3648 0.3553 0.3553 0.3553 0.3858 0.3891 0.3891 0.3891 0.3699 0.4055\n",
      "  0.4055 0.4055 0.4055 0.4085 0.4085 0.4085 0.4085 0.4108 0.4099 0.4235\n",
      "  0.4235 0.4235 0.4271 0.4271 0.4315 0.4315 0.4335 0.4335 0.4387 0.4418]\n",
      " [0.098  0.098  0.098  0.2642 0.2642 0.2642 0.2642 0.2642 0.2489 0.2607\n",
      "  0.2725 0.2725 0.2725 0.2725 0.2725 0.2725 0.2951 0.2951 0.2951 0.2914\n",
      "  0.3001 0.3071 0.3341 0.3341 0.3341 0.3341 0.3459 0.3459 0.3611 0.3611\n",
      "  0.3611 0.368  0.368  0.3792 0.3792 0.3877 0.3877 0.3877 0.3981 0.3981\n",
      "  0.4229 0.4229 0.4229 0.4229 0.4229 0.4229 0.4229 0.4392 0.4392 0.4399]\n",
      " [0.2561 0.2884 0.2884 0.2884 0.2884 0.2712 0.2766 0.2547 0.2547 0.2547\n",
      "  0.3238 0.3238 0.3299 0.3299 0.3343 0.3343 0.3703 0.3703 0.3703 0.3926\n",
      "  0.3926 0.3926 0.3927 0.3927 0.4052 0.4052 0.4052 0.4052 0.4052 0.4052\n",
      "  0.4052 0.4052 0.4052 0.4052 0.4279 0.4279 0.4279 0.4377 0.4495 0.4495\n",
      "  0.4495 0.4495 0.4586 0.4586 0.4586 0.4659 0.4659 0.4671 0.4692 0.4692]]\n"
     ]
    }
   ],
   "source": [
    "test_accuracy_results = {}\n",
    "\n",
    "def calc_test_accuracy_over_time(name = None):\n",
    "    \n",
    "    test_accuracy_results = np.zeros((num_runs, total_generations))\n",
    "    \n",
    "    # loop through each run\n",
    "    for run_num in range(num_runs):\n",
    "        # loop through each solution over time\n",
    "        for generation in range(total_generations):\n",
    "            # calculate the fitness on the test set for this solution and add this to test_accuracy_results\n",
    "            test_accuracy_results[run_num][generation] = neural_network_fitness(weights=solutions_results['mutation_only'][run_num][generation],x=test_x, y=test_y)\n",
    "            \n",
    "            \n",
    "    \n",
    "    return test_accuracy_results\n",
    "test_accuracy_results['mutation_only'] = calc_test_accuracy_over_time()\n",
    "# print(test_accuracy_results['mutation_only'])"
   ]
  },
  {
   "cell_type": "markdown",
   "metadata": {},
   "source": [
    "### Q5b: Running and Visualization\n",
    "Run and plot the test accuracy over time of the runs you performed above (to reduce clutter, feel free to just do this for the tournaments of size `20`).  "
   ]
  },
  {
   "cell_type": "code",
   "execution_count": 53,
   "metadata": {},
   "outputs": [
    {
     "name": "stdout",
     "output_type": "stream",
     "text": [
      "(50, 5)\n",
      "[array([0.11964, 0.22448]), array([0.12378, 0.25358]), array([0.11872, 0.24346]), array([0.13124, 0.25882]), array([0.13124, 0.2706 ]), array([0.26144, 0.3069 ]), array([0.26916, 0.30422]), array([0.26924, 0.32778]), array([0.26386, 0.33278]), array([0.26514, 0.33018]), array([0.28604, 0.33136]), array([0.28734, 0.32376]), array([0.28734, 0.32594]), array([0.29324, 0.36124]), array([0.29412, 0.36498]), array([0.29408, 0.36048]), array([0.31376, 0.37794]), array([0.31514, 0.37794]), array([0.31802, 0.3779 ]), array([0.31362, 0.38968]), array([0.33052, 0.40334]), array([0.32796, 0.40518]), array([0.35006, 0.40652]), array([0.35006, 0.40652]), array([0.34832, 0.40894]), array([0.3561 , 0.41896]), array([0.3664 , 0.42242]), array([0.3664 , 0.43186]), array([0.37344, 0.43468]), array([0.38358, 0.45084]), array([0.38358, 0.45084]), array([0.39038, 0.4521 ]), array([0.39038, 0.4521 ]), array([0.39612, 0.45414]), array([0.39868, 0.4589 ]), array([0.40216, 0.45768]), array([0.40406, 0.45846]), array([0.40508, 0.45892]), array([0.41074, 0.46164]), array([0.41346, 0.46164]), array([0.42846, 0.47734]), array([0.42858, 0.47734]), array([0.43172, 0.4788 ]), array([0.43256, 0.48098]), array([0.43348, 0.47924]), array([0.43494, 0.48318]), array([0.43588, 0.4955 ]), array([0.4425 , 0.49574]), array([0.44494, 0.49668]), array([0.4469 , 0.50574])]\n"
     ]
    },
    {
     "data": {
      "image/png": "[encoded data removed]",
      "text/plain": [
       "<Figure size 576x396 with 1 Axes>"
      ]
     },
     "metadata": {},
     "output_type": "display_data"
    }
   ],
   "source": [
    "plot_mean_and_bootstrapped_ci_over_time(input_data=np.transpose(np.array(test_accuracy_results['mutation_only'])), name='mutation_only', y_label=\"Fitness\", x_label='Generations')"
   ]
  },
  {
   "cell_type": "markdown",
   "metadata": {},
   "source": [
    "### Q5c: Analysis\n",
    "What did you find for a relationship between genetic diversity and overfitting to the training set?  Was this what you expected?"
   ]
  },
  {
   "cell_type": "markdown",
   "metadata": {},
   "source": [
    "**insert text here**"
   ]
  },
  {
   "cell_type": "markdown",
   "metadata": {},
   "source": [
    "### Q6: Modifying Muation Rates\n",
    "Next well modify the mutation rate for our algorithm.  Based on the results you see above, and how you expect mutation rate to modify the genetic diveristy of a population, how might you think that increasing or decreasing the mutation rate might effect the different tournament size runs above?"
   ]
  },
  {
   "cell_type": "markdown",
   "metadata": {},
   "source": [
    "**insert text here**"
   ]
  },
  {
   "cell_type": "markdown",
   "metadata": {},
   "source": [
    "### Q7: Experimentation\n",
    "Let's find out!  Let's do a mini grid search on the `mutation_size` and `num_tournament_winners`.  To keep the number of runs down, let's just look at the exteme values of `num_tournament_winners` we had above (`1` and `10`), and run these for a `mutation_size` of `0.5` and `2.0` (in addition to the value of `1.0` we had before).  \n",
    "\n",
    "*Hint:* This is a good time to double check that your `mutation_size` parameter you implemented above is working correctly (i.e. your results for how it should effect diversity below make sense)\n",
    "\n",
    "*Note:* This may take some time to run (if each condition is a couple minutes).  Please try debugging code with smaller runs and make sure that if there are errors in along the way, what you've run already is saved and logged (so you don't have to rerun all 10 or 15 mins if you find a bug at the end of your script).  And just use this time to go grab a coffee (or do some reading in your lovely evolutionary computation textbooks)!"
   ]
  },
  {
   "cell_type": "code",
   "execution_count": null,
   "metadata": {},
   "outputs": [],
   "source": [
    "num_runs = 5\n",
    "total_generations = 50\n",
    "genome_length = 14*14*10\n",
    "num_elements_to_mutate = genome_length\n",
    "mutation_size = ...\n",
    "num_parents = 50\n",
    "num_children = 50\n",
    "tournament_size = ...\n",
    "num_tournament_winners = ...\n",
    "\n",
    "..."
   ]
  },
  {
   "cell_type": "markdown",
   "metadata": {},
   "source": [
    "### Q8: Visualize\n",
    "Please plot the results of these experiments (both fitness over time, and diveristy)"
   ]
  },
  {
   "cell_type": "code",
   "execution_count": null,
   "metadata": {
    "scrolled": false
   },
   "outputs": [],
   "source": [
    "..."
   ]
  },
  {
   "cell_type": "markdown",
   "metadata": {},
   "source": [
    "### Q8b: Analysis\n",
    "What patterns do you see?  Did you expect this given the implications of each independently?  Does the level of diversity match your intuition about how well search should perform?  Does this tell you anything about the role/interaction of variation (e.g. mutation rate) and selection (e.g. tournament parameters)?"
   ]
  },
  {
   "cell_type": "markdown",
   "metadata": {},
   "source": [
    "**insert text here**"
   ]
  },
  {
   "cell_type": "markdown",
   "metadata": {},
   "source": [
    "### Q9: Dynamic Mutation Rate\n",
    "We talked in class about many way to have dynamic or adaptive mutation rates.  Let's experiment with the simplest form of this, a mutation rate that changes linearly over generational time, from some provided starting value to some provided ending value.  Please modify your evolutionary algorithm code below to enable this."
   ]
  },
  {
   "cell_type": "code",
   "execution_count": null,
   "metadata": {},
   "outputs": [],
   "source": [
    "def evolutionary_algorithm(fitness_function=None, total_generations=100, num_parents=10, num_children=10, genome_length=10, num_elements_to_mutate=1, mutation_size_start=1.0, mutation_size_end = 0.1, crossover=True, tournament_size=4, num_tournament_winners=2):\n",
    "    \"\"\" Evolutinary Algorithm (copied from the basic hillclimber in our last assignment)\n",
    "        \n",
    "        parameters: \n",
    "        fitness_funciton: (callable function) that return the fitness of a genome \n",
    "                           given the genome as an input parameter (e.g. as defined in Landscape)\n",
    "        total_generations: (int) number of total iterations for stopping condition\n",
    "        num_parents: (int) the number of parents we downselect to at each generation (mu)\n",
    "        num_childre: (int) the number of children (note: parents not included in this count) that we baloon to each generation (lambda)\n",
    "        genome_length: (int) length of the genome to be evoloved\n",
    "        num_elements_to_mutate: (int) number of alleles to modify during mutation (0 = no mutation)\n",
    "        mutation_size_start: (float) scaling parameter of the magnitidue of mutations for floating point vectors at the beginning of search\n",
    "        mutation_size_end: (float) scaling parameter of the magnitidue of mutations for floating point vectors at the end of search (note: if same as mutation_size_start, mutation rate is static, otherwise mutation rate is linearly interpolated between the two)\n",
    "        crossover: (bool) whether to perform crossover when generating children \n",
    "        tournament_size: (int) number of individuals competing in each tournament\n",
    "        num_tournament_winners: (int) number of individuals selected as future parents from each tournament (must be less than tournament_size)\n",
    "        \n",
    "        returns:\n",
    "        fitness_over_time: (numpy array) track record of the top fitness value at each generation\n",
    "        solutions_over_time: (numpy array) track record of the top genome value at each generation\n",
    "        diversity_over_time: (numpy array) track record of the population genetic diversity at each generation\n",
    "    \"\"\"\n",
    "\n",
    "   ...\n",
    "        \n",
    "    return fitness_over_time, solutions_over_time, diversity_over_time"
   ]
  },
  {
   "cell_type": "markdown",
   "metadata": {},
   "source": [
    "### Q9b: Experimentation\n",
    "Please peform a set of runs which decrease the mutation rate from `1.0` to `0.1` linearly over the 50 generations of search for a tournament of size `20` with `1` winner selected.  "
   ]
  },
  {
   "cell_type": "code",
   "execution_count": null,
   "metadata": {
    "scrolled": true
   },
   "outputs": [],
   "source": [
    "num_runs = 5\n",
    "total_generations = 50\n",
    "genome_length = 14*14*10\n",
    "proportion_elements_to_mutate = 1.0\n",
    "mutation_size_start = 1.0\n",
    "mutation_size_end = 0.1\n",
    "num_parents = 50\n",
    "num_children = 50\n",
    "tournament_size = 20\n",
    "num_tournament_winners = 1\n",
    "\n",
    "..."
   ]
  },
  {
   "cell_type": "markdown",
   "metadata": {},
   "source": [
    "### Q10: Visualize\n",
    "Please plot (fitness and diversity of) the dynamic mutation rate against fixed mutation rates of `1.0` and `0.5` for the same tournament parameters. "
   ]
  },
  {
   "cell_type": "code",
   "execution_count": null,
   "metadata": {},
   "outputs": [],
   "source": [
    "..."
   ]
  },
  {
   "cell_type": "markdown",
   "metadata": {},
   "source": [
    "### Q10b: Analysis\n",
    "What do you see?  Does the progress of the dynamic mutation rate track with what you expect given the fixed mutation rates?  Why or why not?  Talk especially about what happens near the end of search, realtive to what you might expect from that same time period in the case with a fixed mutation rate of `0.1` (feel free to run that experiment if you want, or just speculate based on those that you have run).  "
   ]
  },
  {
   "cell_type": "markdown",
   "metadata": {},
   "source": [
    "**insert text here**"
   ]
  },
  {
   "cell_type": "markdown",
   "metadata": {},
   "source": [
    "### Q11: Future Work\n",
    "We've just begun to scratch the surface here.  What other experiments would be intersting to run?  What combinations of parameter interactions would be interesting?  What other approaches to dynamic/adaptive learning rates would be fun to implement?  Could you incorporate information about diversity in informing a dynamic learning rate -- what would that look like?"
   ]
  },
  {
   "cell_type": "markdown",
   "metadata": {},
   "source": [
    "**insert text here**"
   ]
  },
  {
   "cell_type": "markdown",
   "metadata": {},
   "source": [
    "### Congratulations, you made it to the end!\n",
    "Nice work -- and hopefully you're starting to get the hang of these!\n",
    "\n",
    "Please save this file as a .ipynb, and also download it as a .pdf, uploading **both** to blackboard to complete this assignment.  \n",
    "\n",
    "For your submission, please make sure that you have renamed this file (and that the resulting pdf follows suit) to replce `[netid]` with your UVM netid.  This will greatly simplify our grading pipeline, and make sure that you receive credit for your work.  "
   ]
  },
  {
   "cell_type": "markdown",
   "metadata": {},
   "source": [
    "#### Academic Integrity Attribution\n",
    "During this assignment I collaborated with:"
   ]
  },
  {
   "cell_type": "markdown",
   "metadata": {},
   "source": [
    "**insert text here**"
   ]
  }
 ],
 "metadata": {
  "kernelspec": {
   "display_name": "Python 3 (ipykernel)",
   "language": "python",
   "name": "python3"
  },
  "language_info": {
   "codemirror_mode": {
    "name": "ipython",
    "version": 3
   },
   "file_extension": ".py",
   "mimetype": "text/x-python",
   "name": "python",
   "nbconvert_exporter": "python",
   "pygments_lexer": "ipython3",
   "version": "3.9.7"
  }
 },
 "nbformat": 4,
 "nbformat_minor": 2
}
