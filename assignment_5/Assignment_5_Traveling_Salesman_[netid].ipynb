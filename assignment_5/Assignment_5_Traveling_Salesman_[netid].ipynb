{
 "cells": [
  {
   "cell_type": "markdown",
   "metadata": {},
   "source": [
    "# Assignment 4: The Traveling Salesman Problem\n",
    "In our last assignment, we added crossover to the mix, completing the last major piece of our evolutionary algorithm framework!  Let's use this basic pipeline to explore a real-world applied problem to help gain an understanding of the complexity of using respresnetations beyond basic bit-strings.  \n",
    "\n",
    "In this assignment, we'll explore the Traveling Salesman Problem (TSP).  This problem specifies that a solution should visit each of a list of locations exactly one time, and do so by traveling the shortest distance possible. "
   ]
  },
  {
   "cell_type": "code",
   "execution_count": null,
   "metadata": {},
   "outputs": [],
   "source": [
    "# imports\n",
    "import numpy as np\n",
    "import copy\n",
    "import matplotlib.pyplot as plt\n",
    "plt.style.use('seaborn')\n",
    "\n",
    "import scikits.bootstrap as bootstrap\n",
    "import warnings\n",
    "warnings.filterwarnings('ignore') # Danger, Will Robinson! (not a scalable hack, and may surpress other helpful warning other than for ill-conditioned bootstrapped CI distributions)\n",
    "\n",
    "import scipy.stats # for finding statistical significance\n",
    "\n",
    "from IPython.display import clear_output # for real-time displays\n",
    "import time # in case you want to analyze runtime of your code"
   ]
  },
  {
   "cell_type": "markdown",
   "metadata": {},
   "source": [
    "Most of my family's road trips are based around getting outside a seeing national parks, so let's optimize a TSP to visit the list of US National Parks.  This list of all parks, and their coordinates, is included in the zip folder for this assignment.  The below block of code will load this data, ignoring the parks outside the continental US (so we can pretend to drive, instead of flying to Alaska or Hawaii).  Ignoring these, we're left with a list of 50 parks (what counts as a \"National Park\" is a bit fuzzy, but this is the list I scraped from Wikipedia).  For the most part we'll actually be ignoring the `park_names` and working with `park_lat_long`, which is an 2-D array that provides the coordiantes of each park (indexed in alphabetical order to match the names list -- not that this matters much for our purposes in this assignment).  "
   ]
  },
  {
   "cell_type": "code",
   "execution_count": null,
   "metadata": {
    "scrolled": false
   },
   "outputs": [],
   "source": [
    "file = open(\"parks_list.csv\")\n",
    "park_names = []\n",
    "park_lat_long = []\n",
    "for line in file: # get name, latitute, and longitude of park from file\n",
    "    park_name = line.split(\",\")[0].strip()\n",
    "    park_lat = float(line.split(\",\")[1].strip())\n",
    "    park_long = float(line.split(\",\")[2].strip())\n",
    "    \n",
    "    if park_lat > -125 and park_lat < -65 and park_long > 25 and park_lat < 50: # just look at continental US\n",
    "        park_names.append(park_name)\n",
    "        park_lat_long.append([park_lat,park_long])\n",
    "        \n",
    "file.close()\n",
    "park_lat_long = np.array(park_lat_long) # convert to numpy array for easier indexing/slicing\n",
    "\n",
    "print(\"Number of National Parks in Continental US:\",len(park_names))\n",
    "print(park_names)\n",
    "\n",
    "print(park_lat_long)"
   ]
  },
  {
   "cell_type": "markdown",
   "metadata": {},
   "source": [
    "Given that we know the coordinates of each park, a fun dataviz we can do is to superimpose the parks on a map of the United States."
   ]
  },
  {
   "cell_type": "code",
   "execution_count": null,
   "metadata": {
    "scrolled": false
   },
   "outputs": [],
   "source": [
    "fig, ax = plt.subplots(figsize=(16, 8)) # generate figure and axes\n",
    "ax.imshow(plt.imread(\"us_map.png\"), extent=[-125, -65, 25, 50]) # import backbround\n",
    "ax.scatter(park_lat_long[:,0],park_lat_long[:,1],color='m',s=100) # plot each park at its coordinates\n",
    "ax.set_xlim([-125,-65]);\n",
    "ax.set_ylim([25,50]);\n",
    "ax.grid(False);"
   ]
  },
  {
   "cell_type": "markdown",
   "metadata": {},
   "source": [
    "Since we'll be opitmizing routes between these parks, it would also be good to be able to draw routes between two parks.  For the sake of simplicity (i.e. so you don't need to interface with the Google Maps API), we'll just consider straight-line distance between parks as a proxy for driving distance.  An example of how to draw a line showing a path between parks might look something like this."
   ]
  },
  {
   "cell_type": "code",
   "execution_count": null,
   "metadata": {},
   "outputs": [],
   "source": [
    "fig, ax = plt.subplots(figsize=(16, 8)) # generate figure and axes\n",
    "ax.imshow(plt.imread(\"us_map.png\"), extent=[-125, -65, 25, 50]) # import backbround\n",
    "ax.scatter(park_lat_long[:,0],park_lat_long[:,1],color='m',s=100) # plot each park at its coordinates\n",
    "ax.set_xlim([-125,-65]);\n",
    "ax.set_ylim([25,50]);\n",
    "ax.grid(False);\n",
    "\n",
    "park1_index = 0 # pick to arbitrary parks for this demo example\n",
    "park2_index = 23\n",
    "ax.plot([park_lat_long[park1_index,0],park_lat_long[park2_index,0]],[park_lat_long[park1_index,1],park_lat_long[park2_index,1]],color='r',linewidth=4); # draw a line between them"
   ]
  },
  {
   "cell_type": "markdown",
   "metadata": {},
   "source": [
    "### Q1: TSP Ftiness Function\n",
    "Define a fitness function that takes a genome of park indexes and calculates the total round trip distance from the starting point (first park) back around a full cycle to end up at the park you started in.  \n",
    "\n",
    "Recall that we are using the straight-line distance between parks (and you may find it useful to make a helper function which calculated the distance between any two indidivual parks in calculating the total distance traveled).\n",
    "\n",
    "To minimize the modifications necessary to your existing evolutionary algorithm code, which maximized fitness, return the negative of the distance traveled (i.e. fitness will always be less than zero, with longer trips more negative), so we can continue to maximize fitness values when finding the shortest part for the TSP.\n",
    "\n",
    "*Hint:* Even though the fitness function definition comes first, it may be easier to complete after defining the genome representation below"
   ]
  },
  {
   "cell_type": "code",
   "execution_count": null,
   "metadata": {},
   "outputs": [],
   "source": [
    "def distance_between_parks(park1_index,park2_index):\n",
    "    \"\"\" Optional helper function to calculate straight-line distance between two parks\n",
    "        \n",
    "        parameters: \n",
    "        park1_index: (int) location of first park in genome\n",
    "        park2_index: (int) location of second park in genome\n",
    "        \n",
    "        returns:\n",
    "        distance: (float) straight-line distance between parks\n",
    "    \"\"\"\n",
    "\n",
    "    ...\n",
    "\n",
    "def traveling_salesman_fitness_function(genome):\n",
    "    \"\"\" Fitness function for TSP.  Round trip (i.e. full cycle) distance traveled by the \"traveling salesman\"\n",
    "        \n",
    "        parameters: \n",
    "        genome: (numpy array) individual's genome containing ordered list of parks to visit\n",
    "        \n",
    "        returns:\n",
    "        distance: (float) straight-line total distance for visiting all parks\n",
    "    \"\"\"\n",
    "    ...\n",
    "    "
   ]
  },
  {
   "cell_type": "markdown",
   "metadata": {},
   "source": [
    "### Q2: Adapting the Evolutionary Algorithm for the TSP\n",
    "Copy over your evolutionary algorithm code (both the `Individual` class and the `evolutionary_algorithm` function) from your last assignemnt (or the posted solutions) to provide a framework to get started with.  Now please adopt this code to sovle the TSP.  Let's begin with the simple case of just mutation and not crossover.  Let's also focus on the simpler case of a hard constraint on visiting each loaction just once.  \n",
    "\n",
    "We mentioned a number of potential representations in class last week, please pick one that enforces each location be visited only once as part of the encoding.  \n",
    "\n",
    "Let's also begin with a mutation opperator we discussed in class, randomly selecting two locations and swapping their place in the visitation order.  \n",
    "\n",
    "Additionally, for visualizations later on, please save the timeseries of solutions over time (in addition to the fitness values over time you were saving last assignment).\n",
    "\n",
    "*Hint*: If your genome is a set of indexes, don't forget that they need to be ints (not floats).\n",
    "\n",
    "*Hint*: If you're fitness values are all negative, keep this in mind when initializing your best-solution-so-far value."
   ]
  },
  {
   "cell_type": "code",
   "execution_count": null,
   "metadata": {},
   "outputs": [],
   "source": [
    "class Individual:\n",
    "    \n",
    "    def __init__(self, fitness_function, genome_length):\n",
    "        ...\n",
    "        \n",
    "    def eval_fitness(self):\n",
    "        ..."
   ]
  },
  {
   "cell_type": "code",
   "execution_count": null,
   "metadata": {},
   "outputs": [],
   "source": [
    "def evolutionary_algorithm(fitness_function=None, total_generations=100, num_parents=10, num_children=10, genome_length=10, num_elements_to_mutate=1, crossover=True, tournament_size=4, num_tournament_winners=2):\n",
    "    \"\"\" Evolutinary Algorithm (copied from the basic hillclimber in our last assignment)\n",
    "        \n",
    "        parameters: \n",
    "        fitness_funciton: (callable function) that return the fitness of a genome \n",
    "                           given the genome as an input parameter (e.g. as defined in Landscape)\n",
    "        total_generations: (int) number of total iterations for stopping condition\n",
    "        num_parents: (int) the number of parents we downselect to at each generation (mu)\n",
    "        num_childre: (int) the number of children (note: parents not included in this count) that we baloon to each generation (lambda)\n",
    "        genome_length: (int) length of the genome to be evoloved\n",
    "        num_elements_to_mutate: (int) number of alleles to modify during mutation (0 = no mutation)\n",
    "        crossover: (bool) whether to perform crossover when generating children \n",
    "        tournament_size: (int) number of individuals competing in each tournament\n",
    "        num_tournament_winners: (int) number of individuals selected as future parents from each tournament (must be less than tournament_size)\n",
    "        \n",
    "        returns:\n",
    "        fitness_over_time: (numpy array) track record of the top fitness value at each generation\n",
    "        solutions_over_time: (numpy array) track record of the top genome value at each generation\n",
    "    \"\"\"\n",
    "\n",
    "    # initialize record keeping\n",
    "    ...\n",
    "    \n",
    "    # the initialization proceedure\n",
    "    ...\n",
    "    \n",
    "    # get population fitness\n",
    "    ...\n",
    "    \n",
    "    ... # repeat\n",
    "        \n",
    "        # the modification procedure\n",
    "       ...\n",
    "            \n",
    "            # inheretance\n",
    "            ...\n",
    "            \n",
    "            # crossover\n",
    "            # N/A\n",
    "\n",
    "            # mutation\n",
    "            ...\n",
    "            \n",
    "            ... # add children to the new_children list\n",
    "            \n",
    "        # the assessement procedure\n",
    "        ...\n",
    "\n",
    "        # selection procedure\n",
    "       ...\n",
    "        \n",
    "        # tournament selection\n",
    "        ...\n",
    "        \n",
    "        # record keeping\n",
    "        ...\n",
    "        \n",
    "    return fitness_over_time, solutions_over_time"
   ]
  },
  {
   "cell_type": "markdown",
   "metadata": {},
   "source": [
    "As usual, let's store our results for later plotting"
   ]
  },
  {
   "cell_type": "code",
   "execution_count": null,
   "metadata": {},
   "outputs": [],
   "source": [
    "experiment_results = {}\n",
    "solutions = {}"
   ]
  },
  {
   "cell_type": "markdown",
   "metadata": {},
   "source": [
    "### Q2: Collect and Analyze Results\n",
    "Similar to last week, let's run multiple trials to systematically test our algorithm.  To keep compute times down, let's start with a smaller subset of the problem, using just the first half of the parks in our dataset.  "
   ]
  },
  {
   "cell_type": "code",
   "execution_count": null,
   "metadata": {},
   "outputs": [],
   "source": [
    "park_names = park_names[:25]\n",
    "park_lat_long = park_lat_long[:25]"
   ]
  },
  {
   "cell_type": "markdown",
   "metadata": {},
   "source": [
    "In this smaller problem, let's run for `100` generations, `50` parents + `50` childeren in a mu+alpha evolutionary strategies, a tournament selection of tournaments of size `10` with `2` winners selected at each tournament.  Let's just run this for `20` independent trials.  \n",
    "\n",
    "For reference (as there were runtime length questions about the last assignment), in my implementation of this, each run taks a little over a second, so all 20 runs finish in under 30 seconds.  "
   ]
  },
  {
   "cell_type": "code",
   "execution_count": null,
   "metadata": {},
   "outputs": [],
   "source": [
    "num_runs = 20\n",
    "total_generations = 100\n",
    "num_elements_to_mutate = 1\n",
    "genome_length = len(park_names)\n",
    "num_parents = 50\n",
    "num_children = 50\n",
    "tournament_size = 10\n",
    "num_tournament_winners = 2\n",
    "\n",
    "..."
   ]
  },
  {
   "cell_type": "markdown",
   "metadata": {},
   "source": [
    "Again pulling from the previous assignment, please plot the mean and boostrapped confidence interval of your experiements.  Again, you may find it convenient to make this into a function (and if you do, FYI, later use cases may involve plotting just the mean without the CI, since this boostrapping proceedure can be computationally expensive).  "
   ]
  },
  {
   "cell_type": "code",
   "execution_count": null,
   "metadata": {
    "scrolled": false
   },
   "outputs": [],
   "source": [
    "def plot_mean_and_bootstrapped_ci_over_time(input_data = None, name = \"change me\", x_label = \"change me\", y_label=\"change me\", y_limit = None, plot_bootstrap = True):\n",
    "    \"\"\"\n",
    "    \n",
    "    parameters: \n",
    "    input_data: (numpy array of shape (max_k, num_repitions)) solution metric to plot\n",
    "    name: (string) name for legend\n",
    "    x_label: (string) x axis label\n",
    "    y_label: (string) y axis label\n",
    "    \n",
    "    returns:\n",
    "    None\n",
    "    \"\"\"\n",
    "\n",
    "    ..."
   ]
  },
  {
   "cell_type": "code",
   "execution_count": null,
   "metadata": {},
   "outputs": [],
   "source": [
    "# plotting\n",
    "..."
   ]
  },
  {
   "cell_type": "markdown",
   "metadata": {},
   "source": [
    "One of the most fun parts of working in machine learning (for me) is to see the solutions take shape over time.  Here's I've written a function that takes in your solutions_over_time from a single trial run above, and visualizes its optimization over time."
   ]
  },
  {
   "cell_type": "code",
   "execution_count": null,
   "metadata": {
    "scrolled": false
   },
   "outputs": [],
   "source": [
    "def show_solution_evolution(solutions_over_time, final_solution_only= False):\n",
    "    \"\"\" Show animation of evolutionary optimization for TSP.\n",
    "    \n",
    "    parameters: \n",
    "    solutions_over_time: (numpy array) track record of the top genome value at each generation\n",
    "    final_solution_only: (bool) flag to skip animation\n",
    "    \n",
    "    returns:\n",
    "    None\n",
    "    \"\"\"\n",
    "    \n",
    "    solutions_over_time = solutions_over_time.astype(int) # in case you forgot to cast array type\n",
    "    \n",
    "    last_fitness = 0\n",
    "    for i in range(total_generations):\n",
    "        \n",
    "        if final_solution_only: i = total_generations-1 # skip to end if not showing full animation\n",
    "        \n",
    "        genome = solutions_over_time[i]\n",
    "        fitness = traveling_salesman_fitness_function(genome)\n",
    "\n",
    "        if fitness != last_fitness: # only show new solution, if different from the last generation\n",
    "            last_fitness = fitness\n",
    "            print(\"Generation:\",i,\"\\nFitness:\",fitness)\n",
    "            clear_output(wait=True) # erase prior figure to enable animation\n",
    "            fig, ax = plt.subplots(figsize=(16, 8)) # generate figure and axes\n",
    "            ax.grid(False)\n",
    "\n",
    "            ax.imshow(plt.imread(\"us_map.png\"), extent=[-125, -65, 25, 50]) # plot map background\n",
    "            ax.scatter(park_lat_long[:,0],park_lat_long[:,1],color='m',s=100) # plot park points\n",
    "            ax.set_xlim([-125,-65]);\n",
    "            ax.set_ylim([25,50]);\n",
    "\n",
    "            for park_index in range(len(genome)): # for each park in the solution\n",
    "                ax.plot([park_lat_long[genome[park_index],0],park_lat_long[genome[(park_index+1)%len(genome)],0]],[park_lat_long[genome[park_index],1],park_lat_long[genome[(park_index+1)%len(genome)],1]],color='r',linewidth=4) # draw a line from it to the following park (looping back around to start when at end)\n",
    "            plt.show()\n",
    "\n",
    "    last_fitness = fitness\n",
    "    print(\"Generation:\",i,\"\\nFitness:\",fitness)"
   ]
  },
  {
   "cell_type": "markdown",
   "metadata": {},
   "source": [
    "### Q3: Inspecting Results\n",
    "Write a quick script to find the best performing single run that you've found so far, and show its evolution over time using the `show_solution_evolution` funciton given above.  "
   ]
  },
  {
   "cell_type": "code",
   "execution_count": null,
   "metadata": {},
   "outputs": [],
   "source": [
    "# plot best solution found thus far as interactive plot"
   ]
  },
  {
   "cell_type": "markdown",
   "metadata": {},
   "source": [
    "### Q3b: Applying Intuition\n",
    "One of the nice parts about viewing the solutions coming together over time is that you can see the stepping stones taken to get to good solutions, or where your algorithm may have gotten stuck.  Do the results that you see make sense?  Do you notice anything in particular about the intermediate solutions or search strategy that might inform further algorithmic ideas for the TSP?"
   ]
  },
  {
   "cell_type": "markdown",
   "metadata": {},
   "source": [
    "**insert text here**"
   ]
  },
  {
   "cell_type": "markdown",
   "metadata": {},
   "source": [
    "### Q4: Alternative Mutation Opperators\n",
    "What's a different mutation opperator that you might wanto to implement?  \n",
    "\n",
    "One that comes to mind for me would be the idea of randomly moving a single entry (gene/park) to another random location in the genome (vs. swapping two).  \n",
    "\n",
    "What are the potential implication that you could see stemming from this change (or whatever other alternative mutation opperator you want to implement below)?"
   ]
  },
  {
   "cell_type": "markdown",
   "metadata": {},
   "source": [
    "**insert text here**"
   ]
  },
  {
   "cell_type": "markdown",
   "metadata": {},
   "source": [
    "### Q4b:  Implementation\n",
    "Implement this mutation opperator in the cell below"
   ]
  },
  {
   "cell_type": "code",
   "execution_count": null,
   "metadata": {},
   "outputs": [],
   "source": [
    "def evolutionary_algorithm(fitness_function=None, total_generations=100, num_parents=10, num_children=10, genome_length=10, num_elements_to_mutate=1, crossover=True, tournament_size=4, num_tournament_winners=2):\n",
    "    \"\"\" Evolutinary Algorithm (copied from the basic hillclimber in our last assignment)\n",
    "        \n",
    "        parameters: \n",
    "        fitness_funciton: (callable function) that return the fitness of a genome \n",
    "                           given the genome as an input parameter (e.g. as defined in Landscape)\n",
    "        total_generations: (int) number of total iterations for stopping condition\n",
    "        num_parents: (int) the number of parents we downselect to at each generation (mu)\n",
    "        num_childre: (int) the number of children (note: parents not included in this count) that we baloon to each generation (lambda)\n",
    "        genome_length: (int) length of the genome to be evoloved\n",
    "        num_elements_to_mutate: (int) number of alleles to modify during mutation (0 = no mutation)\n",
    "        crossover: (bool) whether to perform crossover when generating children \n",
    "        tournament_size: (int) number of individuals competing in each tournament\n",
    "        num_tournament_winners: (int) number of individuals selected as future parents from each tournament (must be less than tournament_size)\n",
    "        \n",
    "        returns:\n",
    "        fitness_over_time: (numpy array) track record of the top fitness value at each generation\n",
    "    \"\"\"\n",
    "\n",
    "    ...\n",
    "        \n",
    "    return fitness_over_time, solutions_over_time # for simplicity, return just the fitness_over_time record"
   ]
  },
  {
   "cell_type": "markdown",
   "metadata": {},
   "source": [
    "### Q5: Run and Plot Experiment\n",
    "Yeah, do that."
   ]
  },
  {
   "cell_type": "code",
   "execution_count": null,
   "metadata": {},
   "outputs": [],
   "source": [
    "num_runs = 20\n",
    "total_generations = 100\n",
    "num_elements_to_mutate = 1\n",
    "genome_length = len(park_names)\n",
    "num_parents = 50\n",
    "num_children = 50\n",
    "tournament_size = 10\n",
    "num_tournament_winners = 2\n",
    "crossover = False\n",
    "\n",
    "..."
   ]
  },
  {
   "cell_type": "code",
   "execution_count": null,
   "metadata": {},
   "outputs": [],
   "source": [
    "# plotting\n",
    "..."
   ]
  },
  {
   "cell_type": "markdown",
   "metadata": {},
   "source": [
    "It may also be helpful (or just fun) to visualize the evolution over time as well.  "
   ]
  },
  {
   "cell_type": "code",
   "execution_count": null,
   "metadata": {},
   "outputs": [],
   "source": [
    "# interactive viz\n",
    "..."
   ]
  },
  {
   "cell_type": "markdown",
   "metadata": {},
   "source": [
    "### Q5b: Analysis\n",
    "Did this approach work better?  Worse?  Indistinguishable from the first?  Was this what you expected?  What does the difference in mutation opperator performance suggest to you about the methods or benefits of crossover?"
   ]
  },
  {
   "cell_type": "markdown",
   "metadata": {},
   "source": [
    "**insert text here**"
   ]
  },
  {
   "cell_type": "markdown",
   "metadata": {},
   "source": [
    "### Q6: Crossover\n",
    "Let's also implement a crossover for the TSP.  There are many approaches to crossover that may be appropriate, and you should feel free to choose any (e.g. the simplest) you want.  I would encourage you to think about crossover approaches that maintain the visit-each-location-once hard constraint as part of the crossover mechanism (but as dicussed in class, you're welcome to also explore approaches that visit each location multiple times, then prune down to a single complete cycle before sending the resulting genome off for evaluation).  \n",
    "\n",
    "If you're short on ideas, [this paper](https://www.hindawi.com/journals/cin/2017/7430125/) has a few examples that might be fun to implement.  \n",
    "\n",
    "For simplicity's sake, feel free to just add crossover in addition to your favorite of the already implemented mutation opperators (rather than having to explore every permutation of mutation and/or crossover approaches).  I'll just tell you that crossover on its own (given the hyperparameters we have here) doesn't work particularly well -- as you might expect and we discussed in class.  "
   ]
  },
  {
   "cell_type": "code",
   "execution_count": null,
   "metadata": {},
   "outputs": [],
   "source": [
    "def evolutionary_algorithm(fitness_function=None, total_generations=100, num_parents=10, num_children=10, genome_length=10, num_elements_to_mutate=1, crossover=True, tournament_size=4, num_tournament_winners=2):\n",
    "    \"\"\" Evolutinary Algorithm (copied from the basic hillclimber in our last assignment)\n",
    "        \n",
    "        parameters: \n",
    "        fitness_funciton: (callable function) that return the fitness of a genome \n",
    "                           given the genome as an input parameter (e.g. as defined in Landscape)\n",
    "        total_generations: (int) number of total iterations for stopping condition\n",
    "        num_parents: (int) the number of parents we downselect to at each generation (mu)\n",
    "        num_childre: (int) the number of children (note: parents not included in this count) that we baloon to each generation (lambda)\n",
    "        genome_length: (int) length of the genome to be evoloved\n",
    "        num_elements_to_mutate: (int) number of alleles to modify during mutation (0 = no mutation)\n",
    "        crossover: (bool) whether to perform crossover when generating children \n",
    "        tournament_size: (int) number of individuals competing in each tournament\n",
    "        num_tournament_winners: (int) number of individuals selected as future parents from each tournament (must be less than tournament_size)\n",
    "        \n",
    "        returns:\n",
    "        fitness_over_time: (numpy array) track record of the top fitness value at each generation\n",
    "    \"\"\"\n",
    "\n",
    "   ...\n",
    "        \n",
    "    return fitness_over_time, solutions_over_time # for simplicity, return just the fitness_over_time record"
   ]
  },
  {
   "cell_type": "markdown",
   "metadata": {},
   "source": [
    "### Q7: Run and Plot\n",
    "Just like always."
   ]
  },
  {
   "cell_type": "code",
   "execution_count": null,
   "metadata": {},
   "outputs": [],
   "source": [
    "num_runs = 20\n",
    "total_generations = 100\n",
    "num_elements_to_mutate = 1\n",
    "genome_length = len(park_names)\n",
    "num_parents = 50\n",
    "num_children = 50\n",
    "tournament_size = 10\n",
    "num_tournament_winners = 2\n",
    "crossover = True\n",
    "\n",
    "..."
   ]
  },
  {
   "cell_type": "code",
   "execution_count": null,
   "metadata": {},
   "outputs": [],
   "source": [
    "# plotting\n",
    "..."
   ]
  },
  {
   "cell_type": "markdown",
   "metadata": {},
   "source": [
    "### Q7b: Analysis\n",
    "Did crossover help?  Any thoughts as to why or why not?  Is this what you expected?"
   ]
  },
  {
   "cell_type": "markdown",
   "metadata": {},
   "source": [
    "**insert text here**"
   ]
  },
  {
   "cell_type": "markdown",
   "metadata": {},
   "source": [
    "### Q8: Scaling Up\n",
    "Now that you've tested some approaches on a subset of the data, let's try the best method on the full park list.  First let's re-import the complete parks list. "
   ]
  },
  {
   "cell_type": "code",
   "execution_count": null,
   "metadata": {},
   "outputs": [],
   "source": [
    "file = open(\"parks_list.csv\")\n",
    "park_names = []\n",
    "park_lat_long = []\n",
    "for line in file: # get name, latitute, and longitude of park from file\n",
    "    park_name = line.split(\",\")[0].strip()\n",
    "    park_lat = float(line.split(\",\")[1].strip())\n",
    "    park_long = float(line.split(\",\")[2].strip())\n",
    "    \n",
    "    if park_lat > -125 and park_lat < -65 and park_long > 25 and park_lat < 50: # just look at continental US\n",
    "        park_names.append(park_name)\n",
    "        park_lat_long.append([park_lat,park_long])\n",
    "        \n",
    "file.close()\n",
    "park_lat_long = np.array(park_lat_long) # convert to numpy array for easier indexing/slicing\n",
    "\n",
    "print(\"Number of National Parks in Continental US:\",len(park_names))\n",
    "print(park_names)"
   ]
  },
  {
   "cell_type": "markdown",
   "metadata": {},
   "source": [
    "This larger dataset will need to run for a bit longer, let's say `1000` generations.  We can keep all other parameters the same, though let's drop the number of independent trials down to `10`, again to keep computation reasonable.  Each run takes a little under 20 seconds on my laptop, so this should still only take a few minutes to run.  \n",
    "\n",
    "Feel free to just run your best/favorite approach (e.g. combination of mutation and/or crossover opperators) from the smaller dataset here.  No need to compare multiple implementations right now."
   ]
  },
  {
   "cell_type": "code",
   "execution_count": null,
   "metadata": {},
   "outputs": [],
   "source": [
    "num_runs = 10\n",
    "total_generations = 1000\n",
    "num_elements_to_mutate = 1\n",
    "genome_length = len(park_names)\n",
    "num_parents = 50\n",
    "num_children = 50\n",
    "tournament_size = 10\n",
    "num_tournament_winners = 2\n",
    "crossover = False\n",
    "\n",
    "..."
   ]
  },
  {
   "cell_type": "markdown",
   "metadata": {},
   "source": [
    "Please also plot the fitness over time.  Though feel free to omit the boostrapped confidence intervals, as they take quite some time to run over 1000 generations.  "
   ]
  },
  {
   "cell_type": "code",
   "execution_count": null,
   "metadata": {},
   "outputs": [],
   "source": [
    "# plotting\n",
    "..."
   ]
  },
  {
   "cell_type": "markdown",
   "metadata": {},
   "source": [
    "Let's also visualize the optimization over time!"
   ]
  },
  {
   "cell_type": "code",
   "execution_count": null,
   "metadata": {},
   "outputs": [],
   "source": [
    "# interactive viz"
   ]
  },
  {
   "cell_type": "markdown",
   "metadata": {},
   "source": [
    "### Q9: Analysis at Scale\n",
    "Do you notice anything different viewing these results at scale?  Does it work as well?  What relationships or patterns do you see between the smaller and larger TSP problems that might help to inform how well of a proxy one is for the other?"
   ]
  },
  {
   "cell_type": "markdown",
   "metadata": {},
   "source": [
    "**insert text here**"
   ]
  },
  {
   "cell_type": "markdown",
   "metadata": {},
   "source": [
    "### Q10: Future Work\n",
    "If any of these results were less than perfect solutions (including this last one at scale), what might still be standing in the way?  You might think about our discussions on search landscapes, local optima, and selection pressure, or consider additonal modificaitons to the variation pperators, selction criteria, or viability constraints, among many other ideas of potential future directions.  "
   ]
  },
  {
   "cell_type": "markdown",
   "metadata": {},
   "source": [
    "**insert text here**"
   ]
  },
  {
   "cell_type": "markdown",
   "metadata": {},
   "source": [
    "### Congratulations, you made it to the end!\n",
    "Nice work -- and hopefully you're starting to get the hang of these!\n",
    "\n",
    "Please save this file as a .ipynb, and also download it as a .pdf, uploading **both** to blackboard to complete this assignment.  \n",
    "\n",
    "For your submission, please make sure that you have renamed this file (and that the resulting pdf follows suit) to replce `[netid]` with your UVM netid.  This will greatly simplify our grading pipeline, and make sure that you receive credit for your work.  "
   ]
  },
  {
   "cell_type": "markdown",
   "metadata": {},
   "source": [
    "#### Academic Integrity Attribution\n",
    "During this assignment I collaborated with:"
   ]
  },
  {
   "cell_type": "markdown",
   "metadata": {},
   "source": [
    "**insert text here**"
   ]
  }
 ],
 "metadata": {
  "kernelspec": {
   "display_name": "Python 3",
   "language": "python",
   "name": "python3"
  },
  "language_info": {
   "codemirror_mode": {
    "name": "ipython",
    "version": 3
   },
   "file_extension": ".py",
   "mimetype": "text/x-python",
   "name": "python",
   "nbconvert_exporter": "python",
   "pygments_lexer": "ipython3",
   "version": "3.8.3"
  }
 },
 "nbformat": 4,
 "nbformat_minor": 2
}
