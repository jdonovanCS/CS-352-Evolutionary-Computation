{
 "cells": [
  {
   "cell_type": "markdown",
   "metadata": {},
   "source": [
    "```\n",
    "Regularized evolution as described in:\n",
    "Real, E., Aggarwal, A., Huang, Y., and Le, Q. V.\n",
    "Regularized Evolution for Image Classifier Architecture Search.\n",
    "In Proceedings of the Conference on Artificial Intelligence (AAAI’19)\n",
    "\n",
    "The code is based one the original regularized evolution open-source implementation:\n",
    "https://colab.research.google.com/github/google-research/google-research/blob/master/evolution/regularized_evolution_algorithm/regularized_evolution.ipynb\n",
    "\n",
    "NOTE: This script has certain deviations from the original code owing to the search space of the benchmarks used:\n",
    "1) The fitness function is not accuracy but error and hence the negative error is being maximized.\n",
    "2) The architecture is a ConfigSpace object that defines the model architecture parameters.\n",
    "```\n"
   ]
  },
  {
   "cell_type": "code",
   "execution_count": 1,
   "metadata": {},
   "outputs": [
    {
     "name": "stdout",
     "output_type": "stream",
     "text": [
      "WARNING:tensorflow:From C:\\Users\\lucky\\Anaconda3\\lib\\site-packages\\nasbench-1.0-py3.7.egg\\nasbench\\lib\\training_time.py:130: The name tf.train.SessionRunHook is deprecated. Please use tf.estimator.SessionRunHook instead.\n",
      "\n",
      "WARNING:tensorflow:From C:\\Users\\lucky\\Anaconda3\\lib\\site-packages\\nasbench-1.0-py3.7.egg\\nasbench\\lib\\training_time.py:174: The name tf.train.CheckpointSaverListener is deprecated. Please use tf.estimator.CheckpointSaverListener instead.\n",
      "\n",
      "WARNING:tensorflow:From C:\\Users\\lucky\\Anaconda3\\lib\\site-packages\\nasbench-1.0-py3.7.egg\\nasbench\\lib\\evaluate.py:30: The name tf.train.NanLossDuringTrainingError is deprecated. Please use tf.estimator.NanLossDuringTrainingError instead.\n",
      "\n"
     ]
    }
   ],
   "source": [
    "import argparse\n",
    "import collections\n",
    "import os\n",
    "import random\n",
    "import json\n",
    "from copy import deepcopy\n",
    "import time\n",
    "\n",
    "import ConfigSpace\n",
    "import numpy as np\n",
    "\n",
    "\n",
    "# from tabular_benchmarks import FCNetProteinStructureBenchmark, FCNetSliceLocalizationBenchmark,\\\n",
    "#     FCNetNavalPropulsionBenchmark, FCNetParkinsonsTelemonitoringBenchmark\n",
    "from tabular_benchmarks import NASCifar10A, NASCifar10B"
   ]
  },
  {
   "cell_type": "code",
   "execution_count": 2,
   "metadata": {},
   "outputs": [
    {
     "name": "stdout",
     "output_type": "stream",
     "text": [
      "Loading dataset from file... This may take a few minutes...\n",
      "WARNING:tensorflow:From C:\\Users\\lucky\\Anaconda3\\lib\\site-packages\\nasbench-1.0-py3.7.egg\\nasbench\\api.py:146: tf_record_iterator (from tensorflow.python.lib.io.tf_record) is deprecated and will be removed in a future version.\n",
      "Instructions for updating:\n",
      "Use eager execution and: \n",
      "`tf.data.TFRecordDataset(path)`\n",
      "Loaded dataset in 403 seconds\n"
     ]
    }
   ],
   "source": [
    "data_dir = './'\n",
    "\n",
    "benchmark = \"nas_cifar10a\"\n",
    "if benchmark == \"nas_cifar10a\":\n",
    "    b = NASCifar10A(data_dir=data_dir)\n",
    "\n",
    "# elif benchmark == \"nas_cifar10b\":\n",
    "#     b = NASCifar10B(data_dir=data_dir)\n",
    "\n",
    "# elif benchmark == \"protein_structure\":\n",
    "#     b = FCNetProteinStructureBenchmark(data_dir=data_dir)\n",
    "\n",
    "# elif benchmark == \"slice_localization\":\n",
    "#     b = FCNetSliceLocalizationBenchmark(data_dir=data_dir)\n",
    "\n",
    "# elif benchmark == \"naval_propulsion\":\n",
    "#     b = FCNetNavalPropulsionBenchmark(data_dir=data_dir)\n",
    "\n",
    "# elif benchmark == \"parkinsons_telemonitoring\":\n",
    "#     b = FCNetParkinsonsTelemonitoringBenchmark(data_dir=data_dir)"
   ]
  },
  {
   "cell_type": "code",
   "execution_count": 3,
   "metadata": {},
   "outputs": [],
   "source": [
    "class Model(object):\n",
    "    \"\"\"A class representing a model.\n",
    "\n",
    "    It holds two attributes: `arch` (the simulated architecture) and `accuracy`\n",
    "    (the simulated accuracy / fitness). See Appendix C for an introduction to\n",
    "    this toy problem.\n",
    "\n",
    "    In the real case of neural networks, `arch` would instead hold the\n",
    "    architecture of the normal and reduction cells of a neural network and\n",
    "    accuracy would be instead the result of training the neural net and\n",
    "    evaluating it on the validation set.\n",
    "\n",
    "    We do not include test accuracies here as they are not used by the algorithm\n",
    "    in any way. In the case of real neural networks, the test accuracy is only\n",
    "    used for the purpose of reporting / plotting final results.\n",
    "\n",
    "    In the context of evolutionary algorithms, a model is often referred to as\n",
    "    an \"individual\".\n",
    "\n",
    "    Attributes:  (as in the original code)\n",
    "      arch: the architecture as an int representing a bit-string of length `DIM`.\n",
    "          As a result, the integers are required to be less than `2**DIM`. They\n",
    "          can be visualized as strings of 0s and 1s by calling `print(model)`,\n",
    "          where `model` is an instance of this class.\n",
    "      accuracy:  the simulated validation accuracy. This is the sum of the\n",
    "          bits in the bit-string, divided by DIM to produce a value in the\n",
    "          interval [0.0, 1.0]. After that, a small amount of Gaussian noise is\n",
    "          added with mean 0.0 and standard deviation `NOISE_STDEV`. The resulting\n",
    "          number is clipped to within [0.0, 1.0] to produce the final validation\n",
    "          accuracy of the model. A given model will have a fixed validation\n",
    "          accuracy but two models that have the same architecture will generally\n",
    "          have different validation accuracies due to this noise. In the context\n",
    "          of evolutionary algorithms, this is often known as the \"fitness\".\n",
    "    \"\"\"\n",
    "\n",
    "    def __init__(self):\n",
    "        self.arch = None\n",
    "        self.accuracy = None\n",
    "\n",
    "    def __str__(self):\n",
    "        \"\"\"Prints a readable version of this bitstring.\"\"\"\n",
    "        return '{0:b}'.format(self.arch)\n",
    "    \n",
    "    def get_params(self):\n",
    "        return '{0:b}'.format(self.arch).split('\\n')"
   ]
  },
  {
   "cell_type": "code",
   "execution_count": 4,
   "metadata": {},
   "outputs": [],
   "source": [
    "def train_and_eval(config):\n",
    "    y, cost = b.objective_function(config)\n",
    "    # returns negative error (similar to maximizing accuracy)\n",
    "    return -y"
   ]
  },
  {
   "cell_type": "code",
   "execution_count": 5,
   "metadata": {},
   "outputs": [],
   "source": [
    "def random_architecture():\n",
    "#     samples an architecture with random operations in ['conv1x1-bn-relu', 'conv3x3-bn-relu', 'maxpool3x3'] \n",
    "#     for each of the 5 nodes and random edge connections with weights either 0 or 1 between the 7 vertices \n",
    "#     (including 5 nodes and input and output?)\n",
    "    config = cs.sample_configuration()\n",
    "    return config"
   ]
  },
  {
   "cell_type": "code",
   "execution_count": 6,
   "metadata": {},
   "outputs": [],
   "source": [
    "def mutate_arch(parent_arch):\n",
    "    # pick random parameter\n",
    "    dim = np.random.randint(len(cs.get_hyperparameters()))\n",
    "    hyper = cs.get_hyperparameters()[dim]\n",
    "\n",
    "    if type(hyper) == ConfigSpace.OrdinalHyperparameter:\n",
    "        choices = list(hyper.sequence)\n",
    "    else:\n",
    "        choices = list(hyper.choices)\n",
    "    # drop current values from potential choices\n",
    "    choices.remove(parent_arch[hyper.name])\n",
    "\n",
    "    # flip parameter\n",
    "    idx = np.random.randint(len(choices))\n",
    "\n",
    "    child_arch = deepcopy(parent_arch)\n",
    "    child_arch[hyper.name] = choices[idx]\n",
    "    return child_arch"
   ]
  },
  {
   "cell_type": "code",
   "execution_count": 7,
   "metadata": {},
   "outputs": [],
   "source": [
    "def evolution(generations, population_size, num_children, tournament_size, num_winners=1, evolution_type=\"regularized\"):\n",
    "    \"\"\"Algorithm for regularized evolution (i.e. aging evolution).\n",
    "\n",
    "    Follows \"Algorithm 1\" in Real et al. \"Regularized Evolution for Image\n",
    "    Classifier Architecture Search\".\n",
    "\n",
    "    Args:\n",
    "      generations: the number of generations the algorithm should run for.\n",
    "      population_size: the number of individuals to keep in the population.\n",
    "      tournament_size: the number of individuals that should participate in each\n",
    "          tournament.\n",
    "\n",
    "    Returns:\n",
    "      history: a list of `Model` instances, representing all the models computed\n",
    "          during the evolution experiment.\n",
    "    \"\"\"\n",
    "    population = collections.deque()\n",
    "    history = []  # Not used by the algorithm, only used to report results.\n",
    "    fitness_over_time = []\n",
    "    solutions_over_time = []\n",
    "    fitness_over_time = []\n",
    "    diversity_over_time = []\n",
    "\n",
    "    # Initialize the population with random models.\n",
    "    while len(population) < population_size:\n",
    "        model = Model()\n",
    "        model.arch = random_architecture()\n",
    "        model.accuracy = train_and_eval(model.arch)\n",
    "        population.append(model)\n",
    "        history.append(model)\n",
    "\n",
    "    # Carry out evolution in cycles. Each cycle produces a model and removes\n",
    "    # another.\n",
    "    for i in range(generations):\n",
    "#     while len(history) < generations:\n",
    "        \n",
    "        parents = []\n",
    "        while len(parents) < num_children:\n",
    "        # Sample randomly chosen models from the current population.\n",
    "            tournament = []\n",
    "            while len(tournament) < tournament_size:\n",
    "            # Inefficient, but written this way for clarity. In the case of neural\n",
    "            # nets, the efficiency of this line is irrelevant because training neural\n",
    "            # nets is the rate-determining step.\n",
    "                candidate = random.choice(list(population))\n",
    "                tournament.append(candidate)\n",
    "\n",
    "            # The parent is the best model in the sample.\n",
    "            parents.extend(sorted(tournament, key=lambda i: i.accuracy, reverse=True)[:num_winners])\n",
    "\n",
    "        # Create the child model and store it.\n",
    "        for parent in parents:\n",
    "            child = Model()\n",
    "            child.arch = mutate_arch(parent.arch)\n",
    "            child.accuracy = train_and_eval(child.arch)\n",
    "            population.append(child)\n",
    "            history.append(child)\n",
    "            if len(history) > population_size + num_children:\n",
    "                history=history[:-1]\n",
    "\n",
    "            # Remove the oldest model.\n",
    "            if evolution_type == 'regularized':\n",
    "                population.popleft()\n",
    "            \n",
    "        if evolution_type == 'fitness':\n",
    "            population = sorted(population, key=lambda i: i.accuracy, reverse=True)[:population_size]\n",
    "                \n",
    "        if evolution_type == 'novelty':\n",
    "            population = sorted(population, key=lambda i: i.accuracy, reverse=True)[:population_size]\n",
    "            \n",
    "        if evolution_type == 'mixed':\n",
    "            population = sorted(population, key=lambda i: i.accuracy, reverse=True)[:population_size]\n",
    "            \n",
    "#         print([x.accuracy for x in sorted(population, key=lambda i: i.accuracy, reverse=True)])\n",
    "        fitness_over_time.append(1+(sorted(population, key=lambda i: i.accuracy, reverse=True)[0].accuracy))\n",
    "        solutions_over_time.append((sorted(population, key=lambda i: i.accuracy, reverse=True)[0].arch))\n",
    "        diversity_over_time.append(0) # NEED to write function for this\n",
    "\n",
    "    return history, solutions_over_time, np.array(fitness_over_time), diversity_over_time"
   ]
  },
  {
   "cell_type": "code",
   "execution_count": 8,
   "metadata": {},
   "outputs": [],
   "source": [
    "# parser = argparse.ArgumentParser()\n",
    "# parser.add_argument('--run_id', default=0, type=int, nargs='?', help='unique number to identify this run')\n",
    "# parser.add_argument('--benchmark', default=\"protein_structure\", type=str, nargs='?', help='specifies the benchmark')\n",
    "# parser.add_argument('--n_iters', default=100, type=int, nargs='?', help='number of iterations for optimization method')\n",
    "# parser.add_argument('--output_path', default=\"./\", type=str, nargs='?',\n",
    "#                     help='specifies the path where the results will be saved')\n",
    "# parser.add_argument('--data_dir', default=\"./\", type=str, nargs='?', help='specifies the path to the tabular data')\n",
    "# parser.add_argument('--pop_size', default=100, type=int, nargs='?', help='population size')\n",
    "# parser.add_argument('--sample_size', default=10, type=int, nargs='?', help='sample_size')\n",
    "# args = parser.parse_args()  \n",
    "\n",
    "num_runs = 5\n",
    "run_id = 0\n",
    "benchmark = 'nas_cifar10a'\n",
    "n_iters = 100\n",
    "output_path = './'\n",
    "pop_size = 10\n",
    "tournament_size = 2\n",
    "evolution_type = \"regularized\"\n",
    "num_children = 10\n",
    "num_winners = 1\n",
    "\n",
    "cs = b.get_configuration_space()\n",
    "\n",
    "fitness_results = {}\n",
    "solution_results = {}\n",
    "history_results = {}\n",
    "diversity_results = {}"
   ]
  },
  {
   "cell_type": "code",
   "execution_count": 9,
   "metadata": {},
   "outputs": [
    {
     "name": "stdout",
     "output_type": "stream",
     "text": [
      "fitness 0 1.9122862815856934 0.9472155570983887\n",
      "fitness 1 2.0563173294067383 0.9472155570983887\n",
      "fitness 2 2.597379446029663 0.9471153616905212\n",
      "fitness 3 1.8996427059173584 0.9489182829856873\n",
      "fitness 4 1.88474702835083 0.9493188858032227\n",
      "regularized 0 2.7014071941375732 0.9410055875778198\n",
      "regularized 1 1.877542495727539 0.9410055875778198\n",
      "regularized 2 1.9423954486846924 0.94140625\n",
      "regularized 3 1.9094212055206299 0.9436097741127014\n",
      "regularized 4 1.8641574382781982 0.9410055875778198\n",
      "novelty 0 2.854924201965332 0.9472155570983887\n",
      "novelty 1 1.9162633419036865 0.9518229365348816\n",
      "novelty 2 1.9322006702423096 0.9503205418586731\n",
      "novelty 3 1.9001598358154297 0.9472155570983887\n",
      "novelty 4 1.847562551498413 0.9489182829856873\n",
      "mixed 0 1.9032504558563232 0.9472155570983887\n",
      "mixed 1 2.9873690605163574 0.9472155570983887\n",
      "mixed 2 1.918910264968872 0.9472155570983887\n",
      "mixed 3 1.8458561897277832 0.9440104365348816\n",
      "mixed 4 1.8329331874847412 0.9472155570983887\n"
     ]
    }
   ],
   "source": [
    "# model = Model()\n",
    "# model.arch = random_architecture()\n",
    "# print(model.arch)\n",
    "\n",
    "for run_name in ['fitness', 'regularized', 'novelty', 'mixed']:\n",
    "    fitness_results[run_name] = np.zeros((num_runs, n_iters))\n",
    "    solution_results[run_name] = np.array([[Model() for i in range(n_iters)]for j in range(num_runs)], dtype=object)\n",
    "    diversity_results[run_name] = np.zeros((num_runs, n_iters))\n",
    "#     history_results[run_name] = np.zeros((num_runs, n_iters))\n",
    "    new_output_path = os.path.join(output_path, run_name + \"evolution\")\n",
    "    os.makedirs(os.path.join(new_output_path), exist_ok=True)\n",
    "    for run_num in range(num_runs):\n",
    "        start_time = time.time()\n",
    "        history_over_time, solution_over_time, fitness_over_time, diversity_over_time = evolution(generations=n_iters, population_size=pop_size, num_children=num_children, tournament_size=tournament_size, num_winners=num_winners, evolution_type=run_name)\n",
    "#         history_results[run_name][run_num] = history_over_time\n",
    "        fitness_results[run_name][run_num] = fitness_over_time\n",
    "        solution_results[run_name][run_num] = solution_over_time\n",
    "        diversity_results[run_name][run_num] = diversity_over_time\n",
    "        res = [history_results, solution_results, fitness_results, diversity_results]\n",
    "        print(run_name, run_num, time.time()-start_time, fitness_over_time[-1])\n",
    "    \n",
    "    \n",
    "    \n",
    "#     fh = open(os.path.join(output_path, 'run_%d.json' % run_num), 'w')\n",
    "#     json.dump(res, fh)\n",
    "#     fh.close()\n",
    "\n",
    "\n",
    "\n"
   ]
  },
  {
   "cell_type": "code",
   "execution_count": 13,
   "metadata": {},
   "outputs": [],
   "source": [
    "import matplotlib.pyplot as plt\n",
    "import scikits.bootstrap as bootstrap\n",
    "import warnings\n",
    "warnings.filterwarnings('ignore') # Danger, Will Robinson! (not a scalable hack, and may surpress other helpful warning other than for ill-conditioned bootstrapped CI distributions)\n",
    "def plot_mean_and_bootstrapped_ci_multiple(input_data = None, title = 'overall', name = \"change this\", x_label = \"x\", y_label = \"y\", save_name=\"\"):\n",
    "    \"\"\" \n",
    "     \n",
    "    parameters:  \n",
    "    input_data: (numpy array of numpy arrays of shape (max_k, num_repitions)) solution met\n",
    "    name: numpy array of string names for legend \n",
    "    x_label: (string) x axis label \n",
    "    y_label: (string) y axis label \n",
    "     \n",
    "    returns: \n",
    "    None \n",
    "    \"\"\" \n",
    " \n",
    "    generations = len(input_data[0])\n",
    " \n",
    "    fig, ax = plt.subplots() \n",
    "    ax.set_xlabel(x_label) \n",
    "    ax.set_ylabel(y_label) \n",
    "    ax.set_title(title) \n",
    "    for i in range(len(input_data)): \n",
    "        CIs = [] \n",
    "        mean_values = [] \n",
    "        for j in range(generations): \n",
    "            mean_values.append(np.mean(input_data[i][j])) \n",
    "            CIs.append(bootstrap.ci(input_data[i][j], statfunction=np.mean)) \n",
    "        mean_values=np.array(mean_values) \n",
    " \n",
    "        print(CIs) \n",
    "        high = [] \n",
    "        low = [] \n",
    "        for j in range(len(CIs)): \n",
    "            low.append(CIs[j][0]) \n",
    "            high.append(CIs[j][1]) \n",
    " \n",
    "        low = np.array(low) \n",
    "        high = np.array(high) \n",
    "\n",
    "        y = range(0, generations) \n",
    "        ax.plot(y, mean_values, label=name[i]) \n",
    "        ax.fill_between(y, high, low, alpha=.2) \n",
    "        ax.legend()"
   ]
  },
  {
   "cell_type": "code",
   "execution_count": 14,
   "metadata": {},
   "outputs": [
    {
     "name": "stderr",
     "output_type": "stream",
     "text": [
      "C:\\Users\\lucky\\Anaconda3\\lib\\site-packages\\ipykernel_launcher.py:27: InstabilityWarning: Some values used top 10 low/high samples; results may be unstable.\n",
      "C:\\Users\\lucky\\Anaconda3\\lib\\site-packages\\ipykernel_launcher.py:27: InstabilityWarning: Some values used top 10 low/high samples; results may be unstable.\n",
      "C:\\Users\\lucky\\Anaconda3\\lib\\site-packages\\ipykernel_launcher.py:27: InstabilityWarning: Some values used top 10 low/high samples; results may be unstable.\n",
      "C:\\Users\\lucky\\Anaconda3\\lib\\site-packages\\ipykernel_launcher.py:27: InstabilityWarning: Some values used top 10 low/high samples; results may be unstable.\n",
      "C:\\Users\\lucky\\Anaconda3\\lib\\site-packages\\ipykernel_launcher.py:27: InstabilityWarning: Some values used top 10 low/high samples; results may be unstable.\n",
      "C:\\Users\\lucky\\Anaconda3\\lib\\site-packages\\ipykernel_launcher.py:27: InstabilityWarning: Some values used top 10 low/high samples; results may be unstable.\n",
      "C:\\Users\\lucky\\Anaconda3\\lib\\site-packages\\ipykernel_launcher.py:27: InstabilityWarning: Some values used top 10 low/high samples; results may be unstable.\n",
      "C:\\Users\\lucky\\Anaconda3\\lib\\site-packages\\ipykernel_launcher.py:27: InstabilityWarning: Some values used top 10 low/high samples; results may be unstable.\n",
      "C:\\Users\\lucky\\Anaconda3\\lib\\site-packages\\ipykernel_launcher.py:27: InstabilityWarning: Some values used top 10 low/high samples; results may be unstable.\n",
      "C:\\Users\\lucky\\Anaconda3\\lib\\site-packages\\ipykernel_launcher.py:27: InstabilityWarning: Some values used top 10 low/high samples; results may be unstable.\n",
      "C:\\Users\\lucky\\Anaconda3\\lib\\site-packages\\ipykernel_launcher.py:27: InstabilityWarning: Some values used top 10 low/high samples; results may be unstable.\n",
      "C:\\Users\\lucky\\Anaconda3\\lib\\site-packages\\ipykernel_launcher.py:27: InstabilityWarning: Some values used top 10 low/high samples; results may be unstable.\n"
     ]
    },
    {
     "name": "stdout",
     "output_type": "stream",
     "text": [
      "[array([0.89783655, 0.92804488]), array([0.89859775, 0.92804488]), array([0.89859775, 0.92920674]), array([0.90180287, 0.93315305]), array([0.90252403, 0.93707932]), array([0.90428684, 0.93898236]), array([0.90348556, 0.93978364]), array([0.90470752, 0.94110576]), array([0.90470752, 0.94110576]), array([0.93647836, 0.94128604]), array([0.93936298, 0.94164662]), array([0.93900239, 0.94162658]), array([0.93940303, 0.94168668]), array([0.94020431, 0.945012  ]), array([0.94020431, 0.945012  ]), array([0.94092547, 0.94535254]), array([0.9415064 , 0.94567307]), array([0.9415064 , 0.94521232]), array([0.94162661, 0.94567307]), array([0.94186698, 0.94571313]), array([0.9423277 , 0.94571313]), array([0.94222755, 0.94571313]), array([0.94222755, 0.94571313]), array([0.94222755, 0.94575318]), array([0.94222755, 0.94577324]), array([0.94224758, 0.94577324]), array([0.94228765, 0.94659456]), array([0.94216745, 0.94659456]), array([0.94216745, 0.94659456]), array([0.94228765, 0.94777645]), array([0.94224758, 0.94775641]), array([0.94228765, 0.94775641]), array([0.94224758, 0.94775641]), array([0.94228765, 0.94775641]), array([0.94224758, 0.94775641]), array([0.94228765, 0.94775641]), array([0.94228765, 0.94777645]), array([0.94224758, 0.94775641]), array([0.94224758, 0.94775641]), array([0.94228765, 0.94775641]), array([0.94228765, 0.94775641]), array([0.94224758, 0.94775641]), array([0.94224758, 0.94777645]), array([0.94224758, 0.9479968 ]), array([0.942488 , 0.9479968]), array([0.942488 , 0.9479968]), array([0.942488 , 0.9479968]), array([0.942488 , 0.9479968]), array([0.942488 , 0.9479968]), array([0.942488 , 0.9479968]), array([0.942488 , 0.9479968]), array([0.942488 , 0.9479968]), array([0.942488 , 0.9479968]), array([0.942488 , 0.9479968]), array([0.942488 , 0.9479968]), array([0.942488 , 0.9479968]), array([0.94377003, 0.9479968 ]), array([0.94377003, 0.9479968 ]), array([0.94377003, 0.9479968 ]), array([0.94377003, 0.9479968 ]), array([0.94377003, 0.9479968 ]), array([0.94377003, 0.9479968 ]), array([0.94377003, 0.9479968 ]), array([0.94377003, 0.9483173 ]), array([0.94403044, 0.9483173 ]), array([0.94377003, 0.9483173 ]), array([0.94377003, 0.9483173 ]), array([0.94377003, 0.9483173 ]), array([0.94377003, 0.9483173 ]), array([0.94403044, 0.9483173 ]), array([0.94403044, 0.9483173 ]), array([0.94377003, 0.9483173 ]), array([0.94377003, 0.9483173 ]), array([0.94403044, 0.9483173 ]), array([0.94403044, 0.9483173 ]), array([0.94377003, 0.9483173 ]), array([0.94377003, 0.9483173 ]), array([0.94403044, 0.9483173 ]), array([0.94403044, 0.9483173 ]), array([0.94419069, 0.9483173 ]), array([0.94377003, 0.9483173 ]), array([0.94377003, 0.9483173 ]), array([0.94377003, 0.9483173 ]), array([0.94377003, 0.9483173 ]), array([0.94377003, 0.9483173 ]), array([0.94377003, 0.9483173 ]), array([0.94403044, 0.9483173 ]), array([0.94403044, 0.9483173 ]), array([0.94451123, 0.9483173 ]), array([0.94717548, 0.94879806]), array([0.94717548, 0.9488181 ]), array([0.94717548, 0.9488181 ]), array([0.94717548, 0.9488181 ]), array([0.94717548, 0.9488181 ]), array([0.94717548, 0.9488181 ]), array([0.94717548, 0.9488181 ]), array([0.94717548, 0.9488181 ]), array([0.94717548, 0.94879806]), array([0.94717548, 0.9488181 ]), array([0.94717548, 0.9488181 ])]\n",
      "[array([0.18086939, 0.92389824]), array([0.18766025, 0.93143027]), array([0.18495593, 0.93679887]), array([0.18701923, 0.93846152]), array([0.18741987, 0.93886217]), array([0.18766025, 0.93930289]), array([0.90254409, 0.93976362]), array([0.90218349, 0.93914261]), array([0.90426681, 0.93741987]), array([0.90294473, 0.93729967]), array([0.90410656, 0.93866185]), array([0.89637419, 0.93896233]), array([0.92906649, 0.94240785]), array([0.85639025, 0.93886217]), array([0.93840146, 0.93904246]), array([0.90294473, 0.94108573]), array([0.92878606, 0.94274839]), array([0.92734374, 0.94328924]), array([0.90486777, 0.94366986]), array([0.90498797, 0.943129  ]), array([0.92934697, 0.94491185]), array([0.9326723 , 0.94368989]), array([0.93727964, 0.94439101]), array([0.93717951, 0.94431088]), array([0.93852162, 0.94459133]), array([0.93347354, 0.9435096 ]), array([0.93920273, 0.94451121]), array([0.93934295, 0.94507209]), array([0.93896235, 0.94124599]), array([0.9394431 , 0.94405047]), array([0.94104567, 0.94583334]), array([0.93946314, 0.94551282]), array([0.93948317, 0.94477165]), array([0.93912261, 0.94244791]), array([0.94008412, 0.94342949]), array([0.93898237, 0.94266826]), array([0.93864181, 0.94248799]), array([0.94000399, 0.94274838]), array([0.94056491, 0.94607372]), array([0.94048479, 0.9451322 ]), array([0.9411859 , 0.94571313]), array([0.93916266, 0.94290866]), array([0.93982371, 0.94202726]), array([0.94058491, 0.94252803]), array([0.93890222, 0.9420673 ]), array([0.93980367, 0.94589341]), array([0.9398838 , 0.94467145]), array([0.94060495, 0.94505206]), array([0.94170672, 0.94571313]), array([0.93946315, 0.94503204]), array([0.9400641 , 0.94499197]), array([0.94060495, 0.9448117 ]), array([0.94084536, 0.94567307]), array([0.93862182, 0.94517229]), array([0.93996396, 0.94393029]), array([0.94012419, 0.94338942]), array([0.93934296, 0.94495192]), array([0.94030451, 0.94627402]), array([0.93868188, 0.94190704]), array([0.93954327, 0.94216745]), array([0.9408854 , 0.94609373]), array([0.94110575, 0.94541265]), array([0.94122595, 0.94567307]), array([0.94072514, 0.94362981]), array([0.93743991, 0.9445713 ]), array([0.93860176, 0.94196714]), array([0.93924279, 0.94308894]), array([0.94140624, 0.94557292]), array([0.93978364, 0.94565306]), array([0.9414263 , 0.94589341]), array([0.93972356, 0.94481168]), array([0.93932292, 0.9453125 ]), array([0.94104567, 0.94615384]), array([0.93990386, 0.94148637]), array([0.94108573, 0.94575318]), array([0.93928285, 0.94479166]), array([0.93914263, 0.94360976]), array([0.93752003, 0.94379005]), array([0.93988382, 0.94310899]), array([0.93902243, 0.94202724]), array([0.94070511, 0.94228765]), array([0.93930289, 0.94104568]), array([0.93800079, 0.94264823]), array([0.94100561, 0.94290863]), array([0.93431492, 0.94393029]), array([0.92562101, 0.94268829]), array([0.9333133 , 0.94186698]), array([0.93112981, 0.94192708]), array([0.93527646, 0.94453125]), array([0.93179085, 0.94234775]), array([0.9304888 , 0.94330928]), array([0.9377003 , 0.94266826]), array([0.93936299, 0.9420673 ]), array([0.93906252, 0.94479166]), array([0.94020433, 0.94519229]), array([0.94100559, 0.94711536]), array([0.93996394, 0.94593349]), array([0.94100559, 0.94525241]), array([0.93892229, 0.94114581]), array([0.94100559, 0.94264823])]\n",
      "[array([0.9111779 , 0.93802083]), array([0.93643829, 0.94276844]), array([0.93703926, 0.94268831]), array([0.93858173, 0.94364985]), array([0.93874199, 0.94356972]), array([0.93984374, 0.94352965]), array([0.94010416, 0.94358975]), array([0.94018428, 0.94364984]), array([0.94012419, 0.94413061]), array([0.94012419, 0.94405048]), array([0.94014423, 0.94419072]), array([0.94020432, 0.94419072]), array([0.94020432, 0.94411058]), array([0.94020432, 0.94411058]), array([0.94066507, 0.94633414]), array([0.94066507, 0.94633414]), array([0.94090544, 0.94633414]), array([0.94090544, 0.94627403]), array([0.94090544, 0.94627403]), array([0.94090544, 0.94633414]), array([0.94090544, 0.94633414]), array([0.94090544, 0.94627403]), array([0.94090544, 0.94633414]), array([0.94098557, 0.94817709]), array([0.94134614, 0.9485577 ]), array([0.94140625, 0.9485577 ]), array([0.94126602, 0.94851764]), array([0.94126602, 0.94861779]), array([0.94126602, 0.94861779]), array([0.94126602, 0.94859778]), array([0.94126602, 0.94859778]), array([0.94090544, 0.94869792]), array([0.94090544, 0.94869792]), array([0.94126602, 0.94871796]), array([0.94090544, 0.94869792]), array([0.94090544, 0.94871796]), array([0.94090544, 0.94869792]), array([0.94126602, 0.94871796]), array([0.94082531, 0.94889824]), array([0.94090544, 0.94897838]), array([0.94090544, 0.94897838]), array([0.94082531, 0.94889824]), array([0.94090544, 0.94889824]), array([0.94090544, 0.94897838]), array([0.94090544, 0.94889824]), array([0.94090544, 0.94897838]), array([0.94090544, 0.94889824]), array([0.94286858, 0.94897838]), array([0.94250799, 0.94897838]), array([0.94250799, 0.94897838]), array([0.94286858, 0.94897838]), array([0.94250799, 0.94889824]), array([0.94250799, 0.94897838]), array([0.94348958, 0.94897838]), array([0.94286858, 0.94889824]), array([0.94250799, 0.94897838]), array([0.94250799, 0.94897838]), array([0.94250799, 0.94889824]), array([0.94286858, 0.94981972]), array([0.94286858, 0.94991988]), array([0.94302883, 0.94991988]), array([0.94302883, 0.9498598 ]), array([0.94499201, 0.95008014]), array([0.94503207, 0.95008014]), array([0.94533255, 0.95034057]), array([0.94751602, 0.95064105]), array([0.94753606, 0.95064105]), array([0.94753606, 0.95064105]), array([0.94753606, 0.95064105]), array([0.94753606, 0.95066108]), array([0.94753606, 0.95064105]), array([0.94751602, 0.95064105]), array([0.9475561 , 0.95064105]), array([0.9475561 , 0.95064105]), array([0.9475561 , 0.95064105]), array([0.9475561 , 0.95064105]), array([0.9475561 , 0.95064105]), array([0.9475561 , 0.95064105]), array([0.9475561 , 0.95064105]), array([0.9475561 , 0.95064105]), array([0.9475561 , 0.95064105]), array([0.9475561 , 0.95064105]), array([0.9475561 , 0.95064105]), array([0.9475561 , 0.95064105]), array([0.9475561 , 0.95064105]), array([0.9475561 , 0.95064105]), array([0.9475561 , 0.95064105]), array([0.9475561 , 0.95064105]), array([0.9475561 , 0.95064105]), array([0.9475561 , 0.95064105]), array([0.9475561 , 0.95064105]), array([0.9475561 , 0.95064105]), array([0.9475561 , 0.95064105]), array([0.9475561 , 0.95064105]), array([0.9475561 , 0.95064105]), array([0.9475561 , 0.95064105]), array([0.9475561 , 0.95064105]), array([0.9475561 , 0.95064105]), array([0.9475561 , 0.95064105]), array([0.9475561 , 0.95064105])]\n"
     ]
    },
    {
     "name": "stderr",
     "output_type": "stream",
     "text": [
      "C:\\Users\\lucky\\Anaconda3\\lib\\site-packages\\ipykernel_launcher.py:27: InstabilityWarning: Some values used top 10 low/high samples; results may be unstable.\n",
      "C:\\Users\\lucky\\Anaconda3\\lib\\site-packages\\ipykernel_launcher.py:27: InstabilityWarning: Some values used top 10 low/high samples; results may be unstable.\n",
      "C:\\Users\\lucky\\Anaconda3\\lib\\site-packages\\ipykernel_launcher.py:27: InstabilityWarning: Some values used top 10 low/high samples; results may be unstable.\n",
      "C:\\Users\\lucky\\Anaconda3\\lib\\site-packages\\ipykernel_launcher.py:27: InstabilityWarning: Some values used top 10 low/high samples; results may be unstable.\n",
      "C:\\Users\\lucky\\Anaconda3\\lib\\site-packages\\ipykernel_launcher.py:27: InstabilityWarning: Some values used top 10 low/high samples; results may be unstable.\n",
      "C:\\Users\\lucky\\Anaconda3\\lib\\site-packages\\ipykernel_launcher.py:27: InstabilityWarning: Some values used top 10 low/high samples; results may be unstable.\n",
      "C:\\Users\\lucky\\Anaconda3\\lib\\site-packages\\ipykernel_launcher.py:27: InstabilityWarning: Some values used top 10 low/high samples; results may be unstable.\n",
      "C:\\Users\\lucky\\Anaconda3\\lib\\site-packages\\ipykernel_launcher.py:27: InstabilityWarning: Some values used top 10 low/high samples; results may be unstable.\n",
      "C:\\Users\\lucky\\Anaconda3\\lib\\site-packages\\ipykernel_launcher.py:27: InstabilityWarning: Some values used top 10 low/high samples; results may be unstable.\n",
      "C:\\Users\\lucky\\Anaconda3\\lib\\site-packages\\ipykernel_launcher.py:27: InstabilityWarning: Some values used top 10 low/high samples; results may be unstable.\n",
      "C:\\Users\\lucky\\Anaconda3\\lib\\site-packages\\ipykernel_launcher.py:27: InstabilityWarning: Some values used top 10 low/high samples; results may be unstable.\n",
      "C:\\Users\\lucky\\Anaconda3\\lib\\site-packages\\ipykernel_launcher.py:27: InstabilityWarning: Some values used extremal samples; results are probably unstable.\n",
      "C:\\Users\\lucky\\Anaconda3\\lib\\site-packages\\ipykernel_launcher.py:27: InstabilityWarning: Some values used extremal samples; results are probably unstable.\n",
      "C:\\Users\\lucky\\Anaconda3\\lib\\site-packages\\ipykernel_launcher.py:27: InstabilityWarning: Some values used extremal samples; results are probably unstable.\n",
      "C:\\Users\\lucky\\Anaconda3\\lib\\site-packages\\ipykernel_launcher.py:27: InstabilityWarning: Some values used extremal samples; results are probably unstable.\n",
      "C:\\Users\\lucky\\Anaconda3\\lib\\site-packages\\ipykernel_launcher.py:27: InstabilityWarning: Some values used extremal samples; results are probably unstable.\n",
      "C:\\Users\\lucky\\Anaconda3\\lib\\site-packages\\ipykernel_launcher.py:27: InstabilityWarning: Some values used extremal samples; results are probably unstable.\n",
      "C:\\Users\\lucky\\Anaconda3\\lib\\site-packages\\ipykernel_launcher.py:27: InstabilityWarning: Some values used extremal samples; results are probably unstable.\n",
      "C:\\Users\\lucky\\Anaconda3\\lib\\site-packages\\ipykernel_launcher.py:27: InstabilityWarning: Some values used extremal samples; results are probably unstable.\n",
      "C:\\Users\\lucky\\Anaconda3\\lib\\site-packages\\ipykernel_launcher.py:27: InstabilityWarning: Some values used extremal samples; results are probably unstable.\n",
      "C:\\Users\\lucky\\Anaconda3\\lib\\site-packages\\ipykernel_launcher.py:27: InstabilityWarning: Some values used extremal samples; results are probably unstable.\n",
      "C:\\Users\\lucky\\Anaconda3\\lib\\site-packages\\ipykernel_launcher.py:27: InstabilityWarning: Some values used extremal samples; results are probably unstable.\n"
     ]
    },
    {
     "name": "stdout",
     "output_type": "stream",
     "text": [
      "[array([0.9371394 , 0.94114584]), array([0.9377604 , 0.94162662]), array([0.93940303, 0.94182692]), array([0.93940303, 0.94182692]), array([0.93940303, 0.94182692]), array([0.93940303, 0.94182692]), array([0.93900239, 0.94212739]), array([0.93900239, 0.94212739]), array([0.93900239, 0.94212739]), array([0.93900239, 0.94212739]), array([0.93900239, 0.94212739]), array([0.93978364, 0.94214742]), array([0.93978364, 0.94214742]), array([0.93978364, 0.94214742]), array([0.93978364, 0.94214742]), array([0.93978364, 0.94258814]), array([0.93978364, 0.94258814]), array([0.93978364, 0.94350961]), array([0.93990384, 0.94350961]), array([0.93978364, 0.94350961]), array([0.9415064 , 0.94350961]), array([0.9420072 , 0.94543267]), array([0.9420072 , 0.94543267]), array([0.9420072 , 0.94543267]), array([0.9420072 , 0.94567306]), array([0.9420072 , 0.94567306]), array([0.9420072 , 0.94543267]), array([0.9420072 , 0.94543267]), array([0.9420072 , 0.94567306]), array([0.94206729, 0.94599359]), array([0.94214742, 0.94599359]), array([0.94214742, 0.94599359]), array([0.94206729, 0.94599359]), array([0.94176681, 0.9463141 ]), array([0.94214742, 0.9463141 ]), array([0.94220752, 0.94637419]), array([0.94220752, 0.94635417]), array([0.94220752, 0.94635415]), array([0.94220752, 0.94635417]), array([0.94220752, 0.94637419]), array([0.94220752, 0.94635415]), array([0.94220752, 0.94637419]), array([0.94220752, 0.94635417]), array([0.94244791, 0.94637419]), array([0.94244791, 0.94637419]), array([0.9426282, 0.9464343]), array([0.9426282, 0.9464343]), array([0.94270834, 0.9471354 ]), array([0.9425681, 0.9471354]), array([0.9425681, 0.9471354]), array([0.94270834, 0.9471354 ]), array([0.94270834, 0.9471354 ]), array([0.94270834, 0.9471354 ]), array([0.94270834, 0.9471354 ]), array([0.9425681 , 0.94715544]), array([0.9425681 , 0.94717548]), array([0.94360975, 0.94717548]), array([0.94360975, 0.94717548]), array([0.94360975, 0.94717548]), array([0.94360975, 0.94717548]), array([0.94360975, 0.94717548]), array([0.94360975, 0.94717548]), array([0.94360975, 0.94717548]), array([0.94370991, 0.94717548]), array([0.94340943, 0.94651443]), array([0.94340943, 0.94651443]), array([0.94350959, 0.94651443]), array([0.94340943, 0.94651443]), array([0.94340943, 0.94651443]), array([0.94340943, 0.94651443]), array([0.94350959, 0.94651443]), array([0.94340943, 0.94651443]), array([0.94340943, 0.94651443]), array([0.94340943, 0.94651443]), array([0.94340943, 0.94651443]), array([0.94350959, 0.94651443]), array([0.94350959, 0.94651443]), array([0.94320911, 0.94719552]), array([0.94399036, 0.94719552]), array([0.94399036, 0.94719552]), array([0.94399036, 0.94719552]), array([0.94320911, 0.94719552]), array([0.94320911, 0.94719552]), array([0.94399036, 0.94719552]), array([0.94399036, 0.94719552]), array([0.94399036, 0.94719552]), array([0.94320911, 0.94719552]), array([0.94399036, 0.94719552]), array([0.94320911, 0.94721556]), array([0.94320911, 0.94721556]), array([0.94401044, 0.94721556]), array([0.94401044, 0.94721556]), array([0.94401044, 0.94721556]), array([0.94401044, 0.94721556]), array([0.94401044, 0.94721556]), array([0.94401044, 0.94721556]), array([0.94401044, 0.94721556]), array([0.94401044, 0.94721556]), array([0.94401044, 0.94721556]), array([0.94401044, 0.94721556])]\n"
     ]
    },
    {
     "name": "stderr",
     "output_type": "stream",
     "text": [
      "C:\\Users\\lucky\\Anaconda3\\lib\\site-packages\\ipykernel_launcher.py:27: InstabilityWarning: Some values used extremal samples; results are probably unstable.\n"
     ]
    },
    {
     "data": {
      "image/png": "[encoded data removed]",
      "text/plain": [
       "<Figure size 432x288 with 1 Axes>"
      ]
     },
     "metadata": {
      "needs_background": "light"
     },
     "output_type": "display_data"
    }
   ],
   "source": [
    "plot_mean_and_bootstrapped_ci_multiple(input_data=[np.transpose(x) for k, x in fitness_results.items()], name=[k for k,x in fitness_results.items()], x_label=\"Generation\", y_label=\"Fitness\")"
   ]
  },
  {
   "cell_type": "code",
   "execution_count": 19,
   "metadata": {},
   "outputs": [],
   "source": [
    "hyperparameter_dict = cs.get_hyperparameters_dict()\n",
    "hyperparameter_list = [h for h, v in hyperparameter_dict.items()]\n",
    "all_possible_edge_values = [list(v.choices) for h, v in hyperparameter_dict.items() if 0 in v.choices]\n",
    "all_possible_node_op_values = [list(v.choices) for h, v in hyperparameter_dict.items() if 0 not in v.choices]"
   ]
  },
  {
   "cell_type": "code",
   "execution_count": 33,
   "metadata": {},
   "outputs": [],
   "source": [
    "import itertools\n",
    "valid_edge_values = []\n",
    "for element in itertools.product(*all_possible_edge_values):\n",
    "    e_dict = {}\n",
    "    if sum(list(element))<=9 and sum(list(element))>=3:\n",
    "        for e in range(len(list(element))):\n",
    "            e_dict[\"edge_%d\" % e] = element[e]\n",
    "        valid_edge_values.append(e_dict)\n",
    "#         print(e_dict)\n",
    "    "
   ]
  },
  {
   "cell_type": "code",
   "execution_count": 34,
   "metadata": {},
   "outputs": [
    {
     "name": "stdout",
     "output_type": "stream",
     "text": [
      "169037604\n"
     ]
    }
   ],
   "source": [
    "valid_node_op_values = []\n",
    "for element in itertools.product(*all_possible_node_op_values):\n",
    "    n_dict = {}\n",
    "    for n in range(len(list(element))):\n",
    "        n_dict[\"op_node_%d\" % n] = element[n] \n",
    "    valid_node_op_values.append(n_dict)\n",
    "#     print(n_dict)\n",
    "    \n",
    "print(len(valid_edge_values)*len(valid_node_op_values))"
   ]
  },
  {
   "cell_type": "code",
   "execution_count": 42,
   "metadata": {
    "scrolled": false
   },
   "outputs": [
    {
     "ename": "KeyboardInterrupt",
     "evalue": "",
     "output_type": "error",
     "traceback": [
      "\u001b[1;31m---------------------------------------------------------------------------\u001b[0m",
      "\u001b[1;31mKeyboardInterrupt\u001b[0m                         Traceback (most recent call last)",
      "\u001b[1;32m<ipython-input-42-c1ff55ab2a76>\u001b[0m in \u001b[0;36m<module>\u001b[1;34m\u001b[0m\n\u001b[0;32m      2\u001b[0m \u001b[1;32mfor\u001b[0m \u001b[0me\u001b[0m \u001b[1;32min\u001b[0m \u001b[0mvalid_edge_values\u001b[0m\u001b[1;33m:\u001b[0m\u001b[1;33m\u001b[0m\u001b[1;33m\u001b[0m\u001b[0m\n\u001b[0;32m      3\u001b[0m     \u001b[1;32mfor\u001b[0m \u001b[0mo\u001b[0m \u001b[1;32min\u001b[0m \u001b[0mvalid_node_op_values\u001b[0m\u001b[1;33m:\u001b[0m\u001b[1;33m\u001b[0m\u001b[1;33m\u001b[0m\u001b[0m\n\u001b[1;32m----> 4\u001b[1;33m         \u001b[0mvalid_configurations\u001b[0m\u001b[1;33m.\u001b[0m\u001b[0mappend\u001b[0m\u001b[1;33m(\u001b[0m\u001b[0mdict\u001b[0m\u001b[1;33m(\u001b[0m\u001b[0me\u001b[0m\u001b[1;33m,\u001b[0m \u001b[1;33m**\u001b[0m\u001b[0mo\u001b[0m\u001b[1;33m)\u001b[0m\u001b[1;33m)\u001b[0m\u001b[1;33m\u001b[0m\u001b[1;33m\u001b[0m\u001b[0m\n\u001b[0m\u001b[0;32m      5\u001b[0m \u001b[1;31m#         print(dict(e, **o))\u001b[0m\u001b[1;33m\u001b[0m\u001b[1;33m\u001b[0m\u001b[1;33m\u001b[0m\u001b[0m\n\u001b[0;32m      6\u001b[0m \u001b[0mprint\u001b[0m\u001b[1;33m(\u001b[0m\u001b[0mlen\u001b[0m\u001b[1;33m(\u001b[0m\u001b[0mvalid_configurations\u001b[0m\u001b[1;33m)\u001b[0m\u001b[1;33m,\u001b[0m \u001b[0mlen\u001b[0m\u001b[1;33m(\u001b[0m\u001b[0mvalid_edge_values\u001b[0m\u001b[1;33m)\u001b[0m\u001b[1;33m*\u001b[0m\u001b[0mlen\u001b[0m\u001b[1;33m(\u001b[0m\u001b[0mvalid_node_op_values\u001b[0m\u001b[1;33m)\u001b[0m\u001b[1;33m)\u001b[0m\u001b[1;33m\u001b[0m\u001b[1;33m\u001b[0m\u001b[0m\n",
      "\u001b[1;31mKeyboardInterrupt\u001b[0m: "
     ]
    }
   ],
   "source": [
    "valid_configurations = []\n",
    "for e in valid_edge_values:\n",
    "    for o in valid_node_op_values:\n",
    "        valid_configurations.append(dict(e, **o))\n",
    "#         print(dict(e, **o))\n",
    "print(len(valid_configurations), len(valid_edge_values)*len(valid_node_op_values))\n",
    "\n",
    "check_validity = []\n",
    "for c in valid_configurations:\n",
    "    check_validity.append(train_and_eval(c))"
   ]
  },
  {
   "cell_type": "code",
   "execution_count": null,
   "metadata": {},
   "outputs": [],
   "source": [
    "# fitness_over_time, solutions_over_time, history = evolution(\n",
    "#     generations=n_iters, population_size=pop_size, tournament_size=tournament_size, evolution_type=evolution_type)\n",
    "if benchmark == \"nas_cifar10a\" or benchmark == \"nas_cifar10b\":\n",
    "    results = b.get_results(ignore_invalid_configs=True)\n",
    "else:\n",
    "    results = b.get_results()\n",
    "\n",
    "fh = open(os.path.join(output_path, 'run_%d.json' % run_id), 'w')\n",
    "json.dump(res, fh)\n",
    "fh.close()"
   ]
  }
 ],
 "metadata": {
  "kernelspec": {
   "display_name": "Python 3 (ipykernel)",
   "language": "python",
   "name": "python3"
  },
  "language_info": {
   "codemirror_mode": {
    "name": "ipython",
    "version": 3
   },
   "file_extension": ".py",
   "mimetype": "text/x-python",
   "name": "python",
   "nbconvert_exporter": "python",
   "pygments_lexer": "ipython3",
   "version": "3.7.1"
  }
 },
 "nbformat": 4,
 "nbformat_minor": 2
}
