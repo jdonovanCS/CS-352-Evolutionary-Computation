{
 "cells": [
  {
   "cell_type": "markdown",
   "metadata": {},
   "source": [
    "# Assignment 4: Populations\n",
    "In our last assignment, we used systematic experimentation to figure out how and why our hillclimber was working -- paying particular attention to how we modify selection pressure, and how that affects search trajectories over fitness landscapes of varying ruggedness.  \n",
    "\n",
    "In this assignment, we'll continue to build out the basic backbone of our evolutionary algorithm, while applying the same lens of systematic investigation and exploration around implementation details.  In particular, we'll expand our single-parent/single-child hillclimber into a full population, and explore how crossover and selection manifest themselves in our algorithm. "
   ]
  },
  {
   "cell_type": "code",
   "execution_count": 2,
   "metadata": {},
   "outputs": [],
   "source": [
    "# imports\n",
    "import numpy as np\n",
    "import copy\n",
    "import matplotlib.pyplot as plt\n",
    "plt.style.use('seaborn')\n",
    "\n",
    "import scikits.bootstrap as bootstrap\n",
    "import warnings\n",
    "warnings.filterwarnings('ignore') # Danger, Will Robinson! (not a scalable hack, and may surpress other helpful warning other than for ill-conditioned bootstrapped CI distributions)\n",
    "\n",
    "import scipy.stats # for finding statistical significance\n",
    "import random"
   ]
  },
  {
   "cell_type": "markdown",
   "metadata": {},
   "source": [
    "### Q1: Implementing Individuals within a Population\n",
    "As we beging to work with populations, it will get a increasingly messy to keep track of each individual's genome and fitness seperately as they move around the population and through generational time. To help simplify this, let's implement each individual within a population as an instance of an `Individual` class.  To start, this class will be quite simple and will just be an object which has attributes for both the individual's `genome` and its `fitness`.  Since we will only be using fitness functions that depend on a single individual in this assignment, let's also implement an `eval_fitness` for each individual that will evaluate and update its stored fitness value when called."
   ]
  },
  {
   "cell_type": "code",
   "execution_count": 3,
   "metadata": {},
   "outputs": [],
   "source": [
    "class Individual:\n",
    "    \n",
    "    def __init__(self, fitness_function, bit_string_length):\n",
    "        self.genome = []\n",
    "        for i in range(bit_string_length):\n",
    "            self.genome.append(random.randint(0,1))\n",
    "        self.fitness_function = fitness_function\n",
    "        self.fitness = self.eval_fitness()\n",
    "        \n",
    "        \n",
    "    def eval_fitness(self):\n",
    "        self.fitness = self.fitness_function(self.genome)"
   ]
  },
  {
   "cell_type": "markdown",
   "metadata": {},
   "source": [
    "### Q2: Modifying the hillclimber\n",
    "Let's take the basic hillclimber from our last assignment and turn it into a full fleged evolutionary algorithm.  Again, please feel free to leverage your prior work (or our prior solution sets) and copy-and-paste liberally.  \n",
    "\n",
    "In particular, our first version of this algorithm will have a number of parents and a number of children given as parameters (a la evolutionary strategies), two-point crossover (of randomly selected parents), and truncation selection.  Please also include arguemtns to this evolutionary_algorithm function which allow you dictate whether the algorithm will use mutation (the same single bit flip we used before), crossover, or both (for use in the following question).\n",
    "\n",
    "To get a finer-grain look at convergence rates of these different approaches, let's also modify the output of this function to return the fitness of the top individual at each generation."
   ]
  },
  {
   "cell_type": "code",
   "execution_count": null,
   "metadata": {},
   "outputs": [],
   "source": [
    "def evolutionary_algorithm(fitness_function=None, total_generations=100, num_parents=10, num_children=10, bit_string_length=10, num_elements_to_mutate=1, crossover=True):\n",
    "    \"\"\" Evolutinary Algorithm (copied from the basic hillclimber in our last assignment)\n",
    "        \n",
    "        parameters: \n",
    "        fitness_funciton: (callable function) that return the fitness of a genome \n",
    "                           given the genome as an input parameter (e.g. as defined in Landscape)\n",
    "        total_generations: (int) number of total iterations for stopping condition\n",
    "        num_parents: (int) the number of parents we downselect to at each generation (mu)\n",
    "        num_childre: (int) the number of children (note: parents not included in this count) that we baloon to each generation (lambda)\n",
    "        bit_string_length: (int) length of bit string genome to be evoloved\n",
    "        num_elements_to_mutate: (int) number of alleles to modify during mutation (0 = no mutation)\n",
    "        crossover (bool): whether to perform crossover when generating children \n",
    "        \n",
    "        returns:\n",
    "        fitness_over_time: (numpy array) track record of the top fitness value at each generation\n",
    "    \"\"\"\n",
    "\n",
    "    # initialize record keeping\n",
    "    best = []\n",
    "    \n",
    "    # the initialization proceedure\n",
    "    parents = []\n",
    "    for i in range(num_parents):\n",
    "        parents.append({'fitness': 0, 'genome': []})\n",
    "        for j in range(bit_string_length):\n",
    "            parents[i]['genome'].append(random.randint(0,1))\n",
    "    \n",
    "    # get population fitness\n",
    "    for i in range(num_parents):\n",
    "        parent[i]['fitness'] = fitness_function(parent[i]['genome'])\n",
    "    \n",
    "    for i in range(total_generations): # repeat\n",
    "        \n",
    "        # the modification procedure\n",
    "        children = parents.copy()\n",
    "            \n",
    "            # inheretance\n",
    "            ...\n",
    "            \n",
    "            # crossover\n",
    "            ...\n",
    "            \n",
    "            # mutation\n",
    "            ...\n",
    "            \n",
    "        # the assessement procedure\n",
    "        ...\n",
    "\n",
    "        # selection procedure\n",
    "        ...\n",
    "        \n",
    "        # record keeping\n",
    "        ...\n",
    "    \n",
    "    return ..."
   ]
  },
  {
   "cell_type": "markdown",
   "metadata": {},
   "source": [
    "### Q3: Running Experiments\n",
    "Similar to last week, let's systemtically run and plot the results.  To start let's use `50` parents (mu) and `50` children (lambda).  For simplicity, let's go back to the one-max problem (and normalize the fitness, using `np.mean` isntead of `np.sum` for our fitness function in case we want to make comparisons across different genome lengths -- though for now, let's start with a bit string genome of length `200`).  \n",
    "\n",
    "Also taking pieces from your experimental comparison scripts from last week, please run this for the the case of mutation only, crossover only, and employing both mutation and crossover.  Run `20` independent repitions for each condition."
   ]
  },
  {
   "cell_type": "code",
   "execution_count": null,
   "metadata": {},
   "outputs": [],
   "source": [
    "num_runs = 20\n",
    "total_generations = 100\n",
    "num_elements_to_mutate = 1\n",
    "bit_string_length = 200\n",
    "num_parents = 50\n",
    "num_children = 50\n",
    "experiment_results = {}\n",
    "\n",
    "..."
   ]
  },
  {
   "cell_type": "markdown",
   "metadata": {},
   "source": [
    "### Q3b: Visualization\n",
    "We will also modify our plotting scripts from before to show how fitness increases over generational time across these three treatments (with boostrapped confidence intervals as before).  As we also did previously, please plot the three experimental conditions run above on the same figure for ease of comparisons."
   ]
  },
  {
   "cell_type": "code",
   "execution_count": null,
   "metadata": {
    "scrolled": false
   },
   "outputs": [],
   "source": [
    "def plot_mean_and_bootstrapped_ci_over_time(input_data = None, name = \"change me\", x_label = \"change me\", y_label=\"change me\", y_limit = None):\n",
    "    \"\"\"\n",
    "    \n",
    "    parameters: \n",
    "    input_data: (numpy array of shape (max_k, num_repitions)) solution metric to plot\n",
    "    name: (string) name for legend\n",
    "    x_label: (string) x axis label\n",
    "    y_label: (string) y axis label\n",
    "    \n",
    "    returns:\n",
    "    None\n",
    "    \"\"\"\n",
    "\n",
    "    ..."
   ]
  },
  {
   "cell_type": "markdown",
   "metadata": {},
   "source": [
    "### Q4: Analysis of Crossover\n",
    "Is crossover effective on this problem? How does crossover compare to mutation?  How do the two interact? "
   ]
  },
  {
   "cell_type": "markdown",
   "metadata": {},
   "source": [
    "**insert text here**"
   ]
  },
  {
   "cell_type": "markdown",
   "metadata": {},
   "source": [
    "### Q5: Propose and Implement a New Crossover Modification\n",
    "We've implemented one specfic type of crossover (two-point crossover with two randomly chosen parents).  What other variatons to crossover might you consider?  Describe it in the box below, and what you anticipate as the effects of it (positive or negative)."
   ]
  },
  {
   "cell_type": "markdown",
   "metadata": {},
   "source": [
    "**insert text here**"
   ]
  },
  {
   "cell_type": "markdown",
   "metadata": {},
   "source": [
    "### Q5b: Let's test it!\n",
    "Copy your evoluationary_algoirthm code and modify it to include your new experimental treatment.  Run and visualize this treatment as above.  Feel free to alo pull in any statistical test scripts/functions from last week, should that help you to analyze and compare this new approach."
   ]
  },
  {
   "cell_type": "code",
   "execution_count": null,
   "metadata": {},
   "outputs": [],
   "source": [
    "# your new evolutionary_algorithm\n",
    "..."
   ]
  },
  {
   "cell_type": "code",
   "execution_count": null,
   "metadata": {},
   "outputs": [],
   "source": [
    "# experimentation\n",
    "..."
   ]
  },
  {
   "cell_type": "code",
   "execution_count": null,
   "metadata": {},
   "outputs": [],
   "source": [
    "# visualization\n",
    "..."
   ]
  },
  {
   "cell_type": "markdown",
   "metadata": {},
   "source": [
    "### Q6: Well... What happened?\n",
    "Describe the effect of your approach.  If it did not work out as expected, please hypotheize as to why this is the case.  If it did work out well, please comment on how broadly you think this finding might apply (or in what experimental conditions you might expect to come to a different conclusion). "
   ]
  },
  {
   "cell_type": "markdown",
   "metadata": {},
   "source": [
    "**insert text here**"
   ]
  },
  {
   "cell_type": "markdown",
   "metadata": {},
   "source": [
    "### Q7: Implementing Tournament Selection\n",
    "Aside from crossover, including populations also gives us the opportunity to explore alternate selection mechanisms.  As mentioned in class, tournament selection is one of my go-to methods for parent selection, so let's implement it here.  The tournament should rely on input parameters such as the `tournament_size` to determine how many solutions will compete in a given tournament or  `num_tournament_winners` to determine how many individuals from each tournament will be selected to move on as parents of the next generation.  Touraments can be selected from the population with or without replacement (specifically I'm referring to making sure all individuals appear in at least one tournament before any individual partakes in one for a second time), and here feel free to use whichever version is simpler for you to implement and understand (which I expect will be the case with replacement).  "
   ]
  },
  {
   "cell_type": "code",
   "execution_count": null,
   "metadata": {},
   "outputs": [],
   "source": [
    "def evolutionary_algorithm(fitness_function=None, total_generations=100, num_parents=10, num_children=10, bit_string_length=10, num_elements_to_mutate=1, crossover=True, tournament_size=4, num_tournament_winners=2):\n",
    "    \"\"\" Evolutinary Algorithm (copied from the basic hillclimber in our last assignment)\n",
    "        \n",
    "        parameters: \n",
    "        fitness_funciton: (callable function) that return the fitness of a genome \n",
    "                           given the genome as an input parameter (e.g. as defined in Landscape)\n",
    "        total_generations: (int) number of total iterations for stopping condition\n",
    "        num_parents: (int) the number of parents we downselect to at each generation (mu)\n",
    "        num_childre: (int) the number of children (note: parents not included in this count) that we baloon to each generation (lambda)\n",
    "        bit_string_length: (int) length of bit string genome to be evoloved\n",
    "        num_elements_to_mutate: (int) number of alleles to modify during mutation (0 = no mutation)\n",
    "        crossover: (bool) whether to perform crossover when generating children \n",
    "        tournament_size: (int) number of individuals competing in each tournament\n",
    "        num_tournament_winners: (int) number of individuals selected as future parents from each tournament (must be less than tournament_size)\n",
    "        \n",
    "        returns:\n",
    "        fitness_over_time: (numpy array) track record of the top fitness value at each generation\n",
    "    \"\"\"\n",
    "\n",
    "    ..."
   ]
  },
  {
   "cell_type": "markdown",
   "metadata": {},
   "source": [
    "### Q8: Run and Plot\n",
    "We discussed in class that the number of individuals participating in a tournament affects the amount of selection pressure it produces, presumably the same is true for the number of individuals selected from that tournament.  So let's play around and generate some data to try and get to the bottom of it!  In particular, let's run the following four experimental conditions: `10 select 5`, `20 select 10`, `20 select 5`, `50 select 10` (where the first number is how many individuals are in a tournament, and the second number is how many are selected from that tournament).  Let's run these on the full-fledged evolutionary_algorithm including both mutation and crossover (for consistency and ease of grading please the original evolutionary algorithm implementation from `Q2` rather than your new implementation in `Q5` by either rerunning the prior code block, or by coping and pasting it in a new code block below).  As above, please visualize the resulting fitnes over time and their boostrapped confidence intervals as well."
   ]
  },
  {
   "cell_type": "code",
   "execution_count": null,
   "metadata": {},
   "outputs": [],
   "source": [
    "# if wanting to copy the original evolutionary_algorithm implementation here (e.g. so you can run Kernel -> Restart & Run All without having to manually rerun the block above within that)\n",
    "... "
   ]
  },
  {
   "cell_type": "code",
   "execution_count": null,
   "metadata": {},
   "outputs": [],
   "source": [
    "num_runs = 20\n",
    "total_generations = 100\n",
    "num_elements_to_mutate = 1\n",
    "bit_string_length = 200\n",
    "num_parents = 50\n",
    "num_children = 50\n",
    "experiment_results = {}\n",
    "\n",
    "..."
   ]
  },
  {
   "cell_type": "code",
   "execution_count": null,
   "metadata": {
    "scrolled": false
   },
   "outputs": [],
   "source": [
    "# plotting\n",
    "..."
   ]
  },
  {
   "cell_type": "markdown",
   "metadata": {},
   "source": [
    "### Q9: Analysis\n",
    "What do these results suggest matter about the values of the tournnament size and the number of winners selected?  Is this suprising?"
   ]
  },
  {
   "cell_type": "markdown",
   "metadata": {},
   "source": [
    "**insert text here**"
   ]
  },
  {
   "cell_type": "markdown",
   "metadata": {},
   "source": [
    "### Q10: Future Work\n",
    "Again, we've just scratched the tip of the iceberg in terms of understanding or efficiently employing populations in evolutionary algorithms.  If you were to run one more experiment here (i.e. another question in this assignment) what would you test next?  If you were to deeply investigate some phenomenon around populations/selection/crossover (i.e. spend 6 weeks on a course project) what broader topic might you dig into?"
   ]
  },
  {
   "cell_type": "markdown",
   "metadata": {},
   "source": [
    "**insert text here**"
   ]
  },
  {
   "cell_type": "markdown",
   "metadata": {},
   "source": [
    "### Congratulations, you made it to the end!\n",
    "Nice work -- and hopefully you're starting to get the hang of these!\n",
    "\n",
    "Please save this file as a .ipynb, and also download it as a .pdf, uploading **both** to blackboard to complete this assignment.  \n",
    "\n",
    "For your submission, please make sure that you have renamed this file (and that the resulting pdf follows suit) to replce `[netid]` with your UVM netid.  This will greatly simplify our grading pipeline, and make sure that you receive credit for your work.  "
   ]
  },
  {
   "cell_type": "markdown",
   "metadata": {},
   "source": [
    "#### Academic Integrity Attribution\n",
    "During this assignment I collaborated with:"
   ]
  },
  {
   "cell_type": "markdown",
   "metadata": {},
   "source": [
    "**insert text here**"
   ]
  }
 ],
 "metadata": {
  "kernelspec": {
   "display_name": "Python 3",
   "language": "python",
   "name": "python3"
  },
  "language_info": {
   "codemirror_mode": {
    "name": "ipython",
    "version": 3
   },
   "file_extension": ".py",
   "mimetype": "text/x-python",
   "name": "python",
   "nbconvert_exporter": "python",
   "pygments_lexer": "ipython3",
   "version": "3.7.1"
  }
 },
 "nbformat": 4,
 "nbformat_minor": 2
}
