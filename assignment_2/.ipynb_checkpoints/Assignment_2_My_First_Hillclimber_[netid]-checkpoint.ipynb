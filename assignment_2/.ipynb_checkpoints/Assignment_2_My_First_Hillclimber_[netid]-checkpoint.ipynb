{
 "cells": [
  {
   "cell_type": "markdown",
   "metadata": {},
   "source": [
    "# Assignment 2: My First Hillclimber\n",
    "In your last assignment we all got up to speed on setting up our coding environment, working through the logistics of these programming assignments, and trying to get us all on the same page for prerequisite knowledge.  Now it's time to start making the backbone for our assignments (and project) for the rest of this semester, a basic evolutionary algorithm!\n",
    "\n",
    "Starting with the most basic and vanilla starting point we can, we'll simply be implementing the Hillclimber algorithm we went over in class, and even using the same example of optimizing a bit string for the OneMax problem.  So you should already know what the steps and desired outcome should be -- this is just an excerise in making the code what you want!  Just like real vanilla, this is itself subtlely complex and is the starting point to layer on so many extra topping, bells, and whistles to complement this base -- but for this week we'll try and keep it plain and simple.  "
   ]
  },
  {
   "cell_type": "code",
   "execution_count": 15,
   "metadata": {},
   "outputs": [],
   "source": [
    "# import required libraries\n",
    "\n",
    "import numpy as np\n",
    "import pandas as pd\n",
    "import copy\n",
    "import matplotlib.pyplot as plt\n",
    "import random\n",
    "plt.style.use('seaborn')"
   ]
  },
  {
   "cell_type": "markdown",
   "metadata": {},
   "source": [
    "Since we already know the pseudocode, that seems like a great place to start.  Borrowing from the Luke textbook (Section 2.1, pg 17), the steps for a basic Hillclimber are as follows:\n",
    "\n",
    "![Luke_hillclimber_pseudocode.png](Luke_hillclimber_pseudocode.png)"
   ]
  },
  {
   "cell_type": "markdown",
   "metadata": {},
   "source": [
    "### Q1: Implementation\n",
    "\n",
    "In the spirit of starting simple, let's also begin with the most barebones implementation of this algorithm.  The pseudocode below followings this proceedure (replacing the current solution, `S`, and its potential replacement, `R`, with the variable names `parent` and `child` as we used in class.  Please fill in the missing code.\n",
    "\n",
    "*Hint:* note that Python uses pointers, so please keep in mind [the difference between and shallow vs. deep copy](https://medium.com/@thawsitt/assignment-vs-shallow-copy-vs-deep-copy-in-python-f70c2f0ebd86), if approapate for your implementation.  \n",
    "\n",
    "*Hint:* note also that here we're using [defult parameters](https://www.geeksforgeeks.org/default-arguments-in-python/) to pass in the hyperparameter settings for our evolutionary algorithm.  "
   ]
  },
  {
   "cell_type": "code",
   "execution_count": 20,
   "metadata": {},
   "outputs": [
    {
     "name": "stdout",
     "output_type": "stream",
     "text": [
      "Total Generations: 100\n",
      "Bit String Length: 30\n",
      "Number of Elements to Mutate: 1\n",
      "\n",
      "\n",
      "   Gen Fitness                                           Solution\n",
      "0    0      12  [0, 0, 1, 0, 0, 1, 0, 1, 0, 0, 0, 0, 1, 1, 0, ...\n",
      "1    1      12  [0, 0, 1, 0, 0, 1, 0, 1, 0, 0, 0, 0, 1, 1, 0, ...\n",
      "2    2      13  [0, 0, 1, 0, 0, 1, 0, 1, 0, 0, 0, 0, 1, 1, 0, ...\n",
      "3    3      13  [0, 0, 1, 0, 0, 1, 0, 1, 0, 0, 0, 0, 1, 1, 0, ...\n",
      "4    4      14  [0, 0, 1, 0, 0, 1, 0, 1, 0, 0, 1, 0, 1, 1, 0, ...\n",
      "5    5      14  [0, 0, 1, 0, 0, 1, 0, 1, 0, 0, 1, 0, 1, 1, 0, ...\n",
      "6    6      15  [0, 0, 1, 1, 0, 1, 0, 1, 0, 0, 1, 0, 1, 1, 0, ...\n",
      "7    7      15  [0, 0, 1, 1, 0, 1, 0, 1, 0, 0, 1, 0, 1, 1, 0, ...\n",
      "8    8      15  [0, 0, 1, 1, 0, 1, 0, 1, 0, 0, 1, 0, 1, 1, 0, ...\n",
      "9    9      15  [0, 0, 1, 1, 0, 1, 0, 1, 0, 0, 1, 0, 1, 1, 0, ...\n",
      "10  10      16  [0, 1, 1, 1, 0, 1, 0, 1, 0, 0, 1, 0, 1, 1, 0, ...\n",
      "11  11      17  [0, 1, 1, 1, 0, 1, 0, 1, 0, 0, 1, 0, 1, 1, 1, ...\n",
      "12  12      17  [0, 1, 1, 1, 0, 1, 0, 1, 0, 0, 1, 0, 1, 1, 1, ...\n",
      "13  13      18  [0, 1, 1, 1, 0, 1, 0, 1, 0, 0, 1, 0, 1, 1, 1, ...\n",
      "14  14      18  [0, 1, 1, 1, 0, 1, 0, 1, 0, 0, 1, 0, 1, 1, 1, ...\n",
      "15  15      19  [0, 1, 1, 1, 0, 1, 0, 1, 0, 0, 1, 0, 1, 1, 1, ...\n",
      "16  16      19  [0, 1, 1, 1, 0, 1, 0, 1, 0, 0, 1, 0, 1, 1, 1, ...\n",
      "17  17      19  [0, 1, 1, 1, 0, 1, 0, 1, 0, 0, 1, 0, 1, 1, 1, ...\n",
      "18  18      19  [0, 1, 1, 1, 0, 1, 0, 1, 0, 0, 1, 0, 1, 1, 1, ...\n",
      "19  19      19  [0, 1, 1, 1, 0, 1, 0, 1, 0, 0, 1, 0, 1, 1, 1, ...\n",
      "20  20      20  [0, 1, 1, 1, 0, 1, 0, 1, 0, 0, 1, 0, 1, 1, 1, ...\n",
      "21  21      20  [0, 1, 1, 1, 0, 1, 0, 1, 0, 0, 1, 0, 1, 1, 1, ...\n",
      "22  22      21  [1, 1, 1, 1, 0, 1, 0, 1, 0, 0, 1, 0, 1, 1, 1, ...\n",
      "23  23      21  [1, 1, 1, 1, 0, 1, 0, 1, 0, 0, 1, 0, 1, 1, 1, ...\n",
      "24  24      21  [1, 1, 1, 1, 0, 1, 0, 1, 0, 0, 1, 0, 1, 1, 1, ...\n",
      "25  25      21  [1, 1, 1, 1, 0, 1, 0, 1, 0, 0, 1, 0, 1, 1, 1, ...\n",
      "26  26      22  [1, 1, 1, 1, 0, 1, 0, 1, 0, 1, 1, 0, 1, 1, 1, ...\n",
      "27  27      22  [1, 1, 1, 1, 0, 1, 0, 1, 0, 1, 1, 0, 1, 1, 1, ...\n",
      "28  28      23  [1, 1, 1, 1, 0, 1, 1, 1, 0, 1, 1, 0, 1, 1, 1, ...\n",
      "29  29      23  [1, 1, 1, 1, 0, 1, 1, 1, 0, 1, 1, 0, 1, 1, 1, ...\n",
      "..  ..     ...                                                ...\n",
      "70  70      28  [1, 1, 1, 1, 0, 1, 1, 1, 0, 1, 1, 1, 1, 1, 1, ...\n",
      "71  71      28  [1, 1, 1, 1, 0, 1, 1, 1, 0, 1, 1, 1, 1, 1, 1, ...\n",
      "72  72      28  [1, 1, 1, 1, 0, 1, 1, 1, 0, 1, 1, 1, 1, 1, 1, ...\n",
      "73  73      28  [1, 1, 1, 1, 0, 1, 1, 1, 0, 1, 1, 1, 1, 1, 1, ...\n",
      "74  74      28  [1, 1, 1, 1, 0, 1, 1, 1, 0, 1, 1, 1, 1, 1, 1, ...\n",
      "75  75      28  [1, 1, 1, 1, 0, 1, 1, 1, 0, 1, 1, 1, 1, 1, 1, ...\n",
      "76  76      28  [1, 1, 1, 1, 0, 1, 1, 1, 0, 1, 1, 1, 1, 1, 1, ...\n",
      "77  77      28  [1, 1, 1, 1, 0, 1, 1, 1, 0, 1, 1, 1, 1, 1, 1, ...\n",
      "78  78      28  [1, 1, 1, 1, 0, 1, 1, 1, 0, 1, 1, 1, 1, 1, 1, ...\n",
      "79  79      28  [1, 1, 1, 1, 0, 1, 1, 1, 0, 1, 1, 1, 1, 1, 1, ...\n",
      "80  80      28  [1, 1, 1, 1, 0, 1, 1, 1, 0, 1, 1, 1, 1, 1, 1, ...\n",
      "81  81      28  [1, 1, 1, 1, 0, 1, 1, 1, 0, 1, 1, 1, 1, 1, 1, ...\n",
      "82  82      28  [1, 1, 1, 1, 0, 1, 1, 1, 0, 1, 1, 1, 1, 1, 1, ...\n",
      "83  83      28  [1, 1, 1, 1, 0, 1, 1, 1, 0, 1, 1, 1, 1, 1, 1, ...\n",
      "84  84      29  [1, 1, 1, 1, 1, 1, 1, 1, 0, 1, 1, 1, 1, 1, 1, ...\n",
      "85  85      29  [1, 1, 1, 1, 1, 1, 1, 1, 0, 1, 1, 1, 1, 1, 1, ...\n",
      "86  86      29  [1, 1, 1, 1, 1, 1, 1, 1, 0, 1, 1, 1, 1, 1, 1, ...\n",
      "87  87      29  [1, 1, 1, 1, 1, 1, 1, 1, 0, 1, 1, 1, 1, 1, 1, ...\n",
      "88  88      29  [1, 1, 1, 1, 1, 1, 1, 1, 0, 1, 1, 1, 1, 1, 1, ...\n",
      "89  89      29  [1, 1, 1, 1, 1, 1, 1, 1, 0, 1, 1, 1, 1, 1, 1, ...\n",
      "90  90      29  [1, 1, 1, 1, 1, 1, 1, 1, 0, 1, 1, 1, 1, 1, 1, ...\n",
      "91  91      29  [1, 1, 1, 1, 1, 1, 1, 1, 0, 1, 1, 1, 1, 1, 1, ...\n",
      "92  92      29  [1, 1, 1, 1, 1, 1, 1, 1, 0, 1, 1, 1, 1, 1, 1, ...\n",
      "93  93      29  [1, 1, 1, 1, 1, 1, 1, 1, 0, 1, 1, 1, 1, 1, 1, ...\n",
      "94  94      29  [1, 1, 1, 1, 1, 1, 1, 1, 0, 1, 1, 1, 1, 1, 1, ...\n",
      "95  95      29  [1, 1, 1, 1, 1, 1, 1, 1, 0, 1, 1, 1, 1, 1, 1, ...\n",
      "96  96      29  [1, 1, 1, 1, 1, 1, 1, 1, 0, 1, 1, 1, 1, 1, 1, ...\n",
      "97  97      29  [1, 1, 1, 1, 1, 1, 1, 1, 0, 1, 1, 1, 1, 1, 1, ...\n",
      "98  98      29  [1, 1, 1, 1, 1, 1, 1, 1, 0, 1, 1, 1, 1, 1, 1, ...\n",
      "99  99      29  [1, 1, 1, 1, 1, 1, 1, 1, 0, 1, 1, 1, 1, 1, 1, ...\n",
      "\n",
      "[100 rows x 3 columns]\n"
     ]
    }
   ],
   "source": [
    "def hillclimber(total_generations = 100, bit_string_length = 30, num_elements_to_mutate = 1):\n",
    "\n",
    "    print('Total Generations: {}'.format(total_generations))\n",
    "    print('Bit String Length: {}'.format(bit_string_length))\n",
    "    print('Number of Elements to Mutate: {}'.format(num_elements_to_mutate))\n",
    "    print()\n",
    "    print()\n",
    "    record = pd.DataFrame(columns=['Gen', 'Fitness', 'Solution'])\n",
    "    pd.set_option(\"display.max_rows\", None, \"display.max_columns\", None)\n",
    "    \n",
    "    # the initialization proceedure\n",
    "    parent = []\n",
    "    for i in range(bit_string_length):\n",
    "        parent.append(random.randint(0,1))\n",
    "    \n",
    "    for i in range(total_generations): # repeat\n",
    "\n",
    "        # record keeping\n",
    "        fitness_parent = sum(parent)\n",
    "        record.loc[len(record.index)] = [i, fitness_parent, parent]\n",
    "        \n",
    "        # the modification procedure\n",
    "        child = parent.copy()\n",
    "        mutate_elements = []\n",
    "        for j in range(num_elements_to_mutate):\n",
    "            mutate_elements.append(random.randint(0,bit_string_length-1))\n",
    "        for j in range(len(mutate_elements)):\n",
    "            bit = child[mutate_elements[j]]\n",
    "            if bit==1:\n",
    "                child[mutate_elements[j]] = 0\n",
    "            else:\n",
    "                child[mutate_elements[j]] = 1\n",
    "        \n",
    "        # the assessement procedure\n",
    "        fitness_child = sum(child)\n",
    "        if fitness_child > fitness_parent:\n",
    "            \n",
    "            # selection procedure\n",
    "            parent = child\n",
    "            \n",
    "        # check for ideal solution since we know it\n",
    "#         if fitness_parent == bit_string_length:\n",
    "#             return parent\n",
    "        \n",
    "    print(record)\n",
    "        \n",
    "        \n",
    "hillclimber() # call function to run"
   ]
  },
  {
   "cell_type": "markdown",
   "metadata": {},
   "source": [
    "### Q2: Record Keeping\n",
    "You've now implemented an evolutionary algorithm... we think.  What happens when you run it?  Not much, eh?  The code block above was to show you how simple the pieces of an evolutionary algorithm could be, but let's add in some record keeping to be able to observe what's going on throughout the process.\n",
    "\n",
    "*Hint:* Being able to turn this output on and off with a hyperparameter is very helpful when running trials in large batches later on.\n",
    "\n",
    "Modify the above code block such that you are able to display the generation, candidate solution, and fitness -- similar to this example output:\n",
    "\n",
    "<img src=\"terminal_output.png\" align=\"left\"/>"
   ]
  },
  {
   "cell_type": "markdown",
   "metadata": {},
   "source": [
    "Also modify and rerun the code, such that you are able to plot the fitness over generation time, similar to this example plot (not necessarily in exact values of shape, but in the general trend):\n",
    "\n",
    "*Hint:* Don't be afraid to steal your code (or the solutions) from last assignment to build upon too.\n",
    "\n",
    "<img src=\"fitness_over_time.png\" align=\"left\"/>"
   ]
  },
  {
   "cell_type": "code",
   "execution_count": null,
   "metadata": {},
   "outputs": [],
   "source": [
    "# plot fitness over time\n",
    "..."
   ]
  },
  {
   "cell_type": "markdown",
   "metadata": {},
   "source": [
    "### Q3: Repeatable Experiments\n",
    "In analyzing the effects of differences between different experimental setup and algorithmic variants, one of the things we'll need to do in future assignments is run, analyze, and visualize repeated trials to gain statistical signifance.  Let's take a first step in that direction by leveraging the functional form of our hillcimber setup above to run and plot multiple trials.  \n",
    "\n",
    "We'll start first with running 10 trials of the same hillclimber as above, and simply overlaying the plots of each into a single figure, something like this: \n",
    "\n",
    "\n",
    "<img src=\"fitness_over_time_multiple_runs.png\" align=\"left\"/>"
   ]
  },
  {
   "cell_type": "code",
   "execution_count": null,
   "metadata": {},
   "outputs": [],
   "source": [
    "# plot overlayed fitness over time\n",
    "... "
   ]
  },
  {
   "cell_type": "markdown",
   "metadata": {},
   "source": [
    "The above rainbow of lines looks fun, but will get messy quickly.  Instead for most comparisons we'll plot fitness curves with confidence intervals.  My personal favorite is the bootstrapped confidence interval, as it makes very few assumptions about the distribution of your data.  The downside is that it's much slower than a confidence interval based on standard deviations of a normal distribution.  Please plot a 95% boostrapped confidence interval of fitness over time for 10 runs. \n",
    "\n",
    "*Hint:* I like Randy's [tutorial on boostrapped confidence intervals](http://www.randalolson.com/2012/08/06/statistical-analysis-made-easy-in-python/).  Please note that the confidence interval values need to be calcuclated separately for each generation in a time series plot.  \n",
    "\n",
    "*Hint:* With a small number of runs like this, you're likely to be thrown waning from the boostrapped confidence interval funcation (which works best with a larger amount of repititions/variation).  Feel free to ignore these for now (or even silence warning -- though be cautious in general if surpressing all warnings).\n",
    "\n",
    "*Hint:* If you're not already familiar with it, you may want to check out the [fill-between and alpha](https://matplotlib.org/stable/gallery/lines_bars_and_markers/fill_between_alpha.html#sphx-glr-gallery-lines-bars-and-markers-fill-between-alpha-py) function/argument in matplotlib.  \n",
    "\n",
    "It may look something like this:\n",
    "\n",
    "<img src=\"fitness_over_time_bootstrapped_ci.png\" align=\"left\"/>"
   ]
  },
  {
   "cell_type": "code",
   "execution_count": null,
   "metadata": {},
   "outputs": [],
   "source": [
    "#plot bootstrapped fitness over time\n",
    "\n",
    "import warnings\n",
    "# warnings.filterwarnings('ignore') # Danger, Will Robinson! (not a scalable hack, and may surpress other helpful warning other than for ill-conditioned bootstrapped CI distributions)\n",
    "import scikits.bootstrap as bootstrap\n",
    "\n",
    "total_generations = 100\n",
    "total_runs = 10\n",
    "array_of_fitness_over_time = ...\n",
    "\n",
    "..."
   ]
  },
  {
   "cell_type": "markdown",
   "metadata": {},
   "source": [
    "### Q4: Analysis of Results\n",
    "The above outputs are one of the key ways in which we'll investigate and analyze evolutionary runs throughout the semester.  What interesting trends or phenomena do you observe about the fitness-over-time plot and/or the solution output over time?  What are your initial reactions to the monotonicity or convergence rate of this algorithm?"
   ]
  },
  {
   "cell_type": "markdown",
   "metadata": {},
   "source": [
    "**insert answer here**"
   ]
  },
  {
   "cell_type": "markdown",
   "metadata": {},
   "source": [
    "### Congratulations, you made it through your first programming assignment! \n",
    "Please save this file as a .ipynb, and also download it as a .pdf, uploading **both** to blackboard to complete this assignment.  \n",
    "\n",
    "For your submission, please make sure that you have renamed this file (and that the resulting pdf follows suit) to replce `[netid]` with your UVM netid.  This will greatly simplify our grading pipeline, and make sure that you receive credit for your work.  "
   ]
  },
  {
   "cell_type": "markdown",
   "metadata": {},
   "source": [
    "#### Academic Integrity Attribution\n",
    "During this assignment I collaborated with:"
   ]
  },
  {
   "cell_type": "markdown",
   "metadata": {},
   "source": [
    "**list partners here**"
   ]
  }
 ],
 "metadata": {
  "kernelspec": {
   "display_name": "Python 3",
   "language": "python",
   "name": "python3"
  },
  "language_info": {
   "codemirror_mode": {
    "name": "ipython",
    "version": 3
   },
   "file_extension": ".py",
   "mimetype": "text/x-python",
   "name": "python",
   "nbconvert_exporter": "python",
   "pygments_lexer": "ipython3",
   "version": "3.7.1"
  }
 },
 "nbformat": 4,
 "nbformat_minor": 2
}
