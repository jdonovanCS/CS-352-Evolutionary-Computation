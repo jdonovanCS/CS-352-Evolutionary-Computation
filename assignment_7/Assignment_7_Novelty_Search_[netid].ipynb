{
 "cells": [
  {
   "cell_type": "markdown",
   "metadata": {},
   "source": [
    "# Assignment 7: Novelty Search\n",
    "In our last assignment, we explored the idea of measuring diversity.  This week we'll turn it up to eleven, and directly incentivize diversity by playing around with novelty search.  \n",
    "\n",
    "While not quite a deceptive landscape, we'll see how novelty search interacts with a rugged fitness landscape by revisiting our prior work on NK-landscapes from Assignment 3.  "
   ]
  },
  {
   "cell_type": "code",
   "execution_count": null,
   "metadata": {},
   "outputs": [],
   "source": [
    "# imports\n",
    "import numpy as np\n",
    "import copy\n",
    "import matplotlib.pyplot as plt\n",
    "plt.style.use('seaborn')\n",
    "\n",
    "import scikits.bootstrap as bootstrap\n",
    "import warnings\n",
    "warnings.filterwarnings('ignore') # Danger, Will Robinson! (not a scalable hack, and may surpress other helpful warning other than for ill-conditioned bootstrapped CI distributions)\n",
    "\n",
    "import scipy.stats # for finding statistical significance\n",
    "\n",
    "import time"
   ]
  },
  {
   "cell_type": "markdown",
   "metadata": {},
   "source": [
    "Our NK fitness landscape function from Assignment 3.  "
   ]
  },
  {
   "cell_type": "code",
   "execution_count": null,
   "metadata": {},
   "outputs": [],
   "source": [
    "class Landscape:\n",
    "    \"\"\" N-K Fitness Landscape\n",
    "    \"\"\"\n",
    "\n",
    "    \n",
    "    def __init__(self, n=10, k=2):\n",
    "        self.n = n # genome length\n",
    "        self.k = k # number of other loci interacting with each gene\n",
    "        self.gene_contribution_weight_matrix = np.random.rand(n,2**(k+1)) # for each gene, a lookup table for its fitness contribution, which depends on this gene's setting and also the setting of its interacting neighboring loci\n",
    "        \n",
    "    # find values of interacting loci\n",
    "    def get_contributing_gene_values(self, genome, gene_num):     \n",
    "        contributing_gene_values = \"\"\n",
    "        for i in range(self.k+1): # for each interacing loci (including the location of this gene itself)\n",
    "            contributing_gene_values += str(genome[(gene_num+i)%self.n]) # for simplicity we'll define the interacting genes as the ones immediately following the gene in question.  Get the values at each of these loci\n",
    "        return contributing_gene_values # return the string containing the values of all loci which affect the fitness of this gene\n",
    "    \n",
    "    # find the value of a partiuclar genome\n",
    "    def get_fitness(self, genome):\n",
    "        gene_values = np.zeros(self.n) # the value of each gene in the genome\n",
    "        for gene_num in range(len(genome)): # for each gene\n",
    "            contributing_gene_values = self.get_contributing_gene_values(genome, gene_num) # get the values of the loci which affect it\n",
    "            gene_values[gene_num] = self.gene_contribution_weight_matrix[gene_num,int(contributing_gene_values,2)] # use the values of the interacting loci (converted from a binary string to base-10 index) to find the lookup table entry for this combination of genome settings\n",
    "        return np.mean(gene_values) # define the fitness of the full genome as the average of the contribution of its genes (and return it for use in the evolutionary algoirthm)"
   ]
  },
  {
   "cell_type": "markdown",
   "metadata": {},
   "source": [
    "### Q1: Baseline implementation\n",
    "Let's copy our usual `Individual` and `evolutionary_algorithm` setup from before.  For simplicity in future questions, let's simply our algorithm as much as possible, working with bit-string (as per the NK fitness function), mutation only (just flipping one bit) and no crossover, and simple truncation selection rather than tournament selection.  Like last week, let's also record genotypic diverity over time."
   ]
  },
  {
   "cell_type": "code",
   "execution_count": null,
   "metadata": {},
   "outputs": [],
   "source": [
    "class Individual:\n",
    "    \n",
    "    def __init__(self, fitness_function, bit_string_length):\n",
    "        ...\n",
    "        \n",
    "    def eval_fitness(self):\n",
    "        ..."
   ]
  },
  {
   "cell_type": "code",
   "execution_count": null,
   "metadata": {},
   "outputs": [],
   "source": [
    "def evolutionary_algorithm(fitness_function=None, total_generations=100, num_parents=10, num_children=10, bit_string_length=10, num_elements_to_mutate=1, crossover=True):\n",
    "    \"\"\" Evolutinary Algorithm (copied from the basic hillclimber in our last assignment)\n",
    "        \n",
    "        parameters: \n",
    "        fitness_funciton: (callable function) that return the fitness of a genome \n",
    "                           given the genome as an input parameter (e.g. as defined in Landscape)\n",
    "        total_generations: (int) number of total iterations for stopping condition\n",
    "        num_parents: (int) the number of parents we downselect to at each generation (mu)\n",
    "        num_childre: (int) the number of children (note: parents not included in this count) that we baloon to each generation (lambda)\n",
    "        bit_string_length: (int) length of bit string genome to be evoloved\n",
    "        num_elements_to_mutate: (int) number of alleles to modify during mutation (0 = no mutation)\n",
    "        crossover (bool): whether to perform crossover when generating children \n",
    "        \n",
    "        returns:\n",
    "        fitness_over_time: (numpy array) track record of the top fitness value at each generation\n",
    "    \"\"\"\n",
    "\n",
    "    # initialize record keeping\n",
    "    solution = None # best genome so far\n",
    "    solution_fitness = -99999 # fitness of best genome so far\n",
    "    fitness_over_time = np.zeros(total_generations)\n",
    "    solutions_over_time = np.zeros((total_generations,bit_string_length))\n",
    "    diversity_over_time = np.zeros(total_generations)\n",
    "    \n",
    "    # the initialization proceedure\n",
    "    ...\n",
    "    \n",
    "    # get population fitness\n",
    "    ...\n",
    "    \n",
    "    ... # repeat\n",
    "        \n",
    "        # the modification procedure\n",
    "        ...    \n",
    "            # inheretance\n",
    "            ...\n",
    "            \n",
    "            # crossover\n",
    "            # N/A\n",
    "            \n",
    "            # mutation\n",
    "            ...\n",
    "            \n",
    "        ...\n",
    "            \n",
    "        # the assessement procedure\n",
    "        ...\n",
    "        \n",
    "        # selection procedure\n",
    "        ...\n",
    "    \n",
    "        # record keeping\n",
    "        ...\n",
    "        \n",
    "    return fitness_over_time, solutions_over_time, diversity_over_time "
   ]
  },
  {
   "cell_type": "markdown",
   "metadata": {},
   "source": [
    "Initialize recordkeeping"
   ]
  },
  {
   "cell_type": "code",
   "execution_count": null,
   "metadata": {},
   "outputs": [],
   "source": [
    "experiment_results = {}\n",
    "solutions_results = {}\n",
    "diversity_results = {}"
   ]
  },
  {
   "cell_type": "markdown",
   "metadata": {},
   "source": [
    "### Q1b: Baseline Results\n",
    "Let's pull all the pieces together and run `20` repitions of `100` generations of a population with `20` parents and `20` children.  Let's use a NK-landscape with a bitstring length (`N`) of `15` and a highly rugged landscape of `K = 14`.  (My repitions take about 1.5 second each)"
   ]
  },
  {
   "cell_type": "code",
   "execution_count": null,
   "metadata": {},
   "outputs": [],
   "source": [
    "num_runs = 20\n",
    "total_generations = 100\n",
    "num_elements_to_mutate = 1\n",
    "bit_string_length = 15\n",
    "num_parents = 20\n",
    "num_children = 20\n",
    "\n",
    "n = bit_string_length\n",
    "k = bit_string_length - 1\n",
    "\n",
    "..."
   ]
  },
  {
   "cell_type": "markdown",
   "metadata": {},
   "source": [
    "### Q1c: Plotting\n",
    "Please plot both the fitness over time and diversity over time of this run."
   ]
  },
  {
   "cell_type": "code",
   "execution_count": null,
   "metadata": {},
   "outputs": [],
   "source": [
    "def plot_mean_and_bootstrapped_ci_over_time(input_data = None, name = \"change me\", x_label = \"change me\", y_label=\"change me\", y_limit = None, plot_bootstrap = True):\n",
    "    \"\"\"\n",
    "    \n",
    "    parameters: \n",
    "    input_data: (numpy array of shape (max_k, num_repitions)) solution metric to plot\n",
    "    name: (string) name for legend\n",
    "    x_label: (string) x axis label\n",
    "    y_label: (string) y axis label\n",
    "    \n",
    "    returns:\n",
    "    None\n",
    "    \"\"\"\n",
    "\n",
    "    ..."
   ]
  },
  {
   "cell_type": "code",
   "execution_count": null,
   "metadata": {},
   "outputs": [],
   "source": [
    "# plotting\n",
    "..."
   ]
  },
  {
   "cell_type": "markdown",
   "metadata": {},
   "source": [
    "### Q2: Analysis\n",
    "What do your results look like?  In what ways, if any, do you expect that they'll change if we search for novelty instead of fitness?  Why?"
   ]
  },
  {
   "cell_type": "markdown",
   "metadata": {},
   "source": [
    "**insert text here**"
   ]
  },
  {
   "cell_type": "markdown",
   "metadata": {},
   "source": [
    "### Q3: Implementing Novelty\n",
    "Let's implement novelty search! First, modify your `Individual` class to record `novelty` as an attribute (in additon to `fitness`).  \n",
    "\n",
    "*Hint:* As ususal, you may want to skip ahead to the modification of your `evolutionary_algorithm` function in `Q4` and come back to fill in the helper functions in `Q3` once you have a better idea of when they'll be used (they just appear first to establish defniitions in case you `Restart and Run All`)."
   ]
  },
  {
   "cell_type": "code",
   "execution_count": null,
   "metadata": {},
   "outputs": [],
   "source": [
    "class Individual:\n",
    "    \n",
    "    def __init__(self, fitness_function, bit_string_length):\n",
    "        ...\n",
    "        \n",
    "    def eval_fitness(self):\n",
    "        ..."
   ]
  },
  {
   "cell_type": "markdown",
   "metadata": {},
   "source": [
    "### Q3b: Caclulate Novelty\n",
    "Let's define the novelty of a solution to be the average hamming/euclidean distance (i.e. number of differing bits) between the closest `k` genomes to it within an archive of prior solutions.  It may be helpful to define a helper function to calculate this quanity.  "
   ]
  },
  {
   "cell_type": "code",
   "execution_count": null,
   "metadata": {},
   "outputs": [],
   "source": [
    "def get_novelty(solution_archive, individual, k):\n",
    "    ...\n",
    "    \n",
    "    return ..."
   ]
  },
  {
   "cell_type": "markdown",
   "metadata": {},
   "source": [
    "### Q3c:  Selecting for Novelty\n",
    "Please modify your evolutionary algorithm code to select (again, using the truncation selection as above) for the most novel solutions in our population (according to the novelty metric defined above), regardless of their fitness.  \n",
    "\n",
    "In order to keep down the cost of computing the distance between a new genome and all those that have previously existed, let's also set a finite size to our novelty archive (as a parameter we can pass to the algorithm).  When we trying to add new genomes to the novelty archive, only add the the new individual if it has a higher novelty score than an individual already in the novelty archive (and remove that prior individual from the archive to keeep the archive size the same).  Let's also say that the novelty of an individual will be its novelty score when first being considered for additon to the archive (i.e. we do not have to re-calculate it in the future as the makeup of the archive changes).\n",
    "\n",
    "It may also be helpful to build a helper function for (potentially) updating the archive with a new individual.\n",
    "\n",
    "Feel free to use the indidivuals in the current generation for your archive calculation or not, whichever is more convenient for your implementation.  \n",
    "\n",
    "*Hint:* If you've sorted the population by novelty for selection, don't forget that the population will no longer be in order of fitness when you go to record the fitness of most fit indidivual for record keeping!"
   ]
  },
  {
   "cell_type": "code",
   "execution_count": null,
   "metadata": {},
   "outputs": [],
   "source": [
    "def update_archive(solution_archive, individual, max_archive_length):\n",
    "    ...\n",
    "\n",
    "    return solution_archive"
   ]
  },
  {
   "cell_type": "code",
   "execution_count": null,
   "metadata": {},
   "outputs": [],
   "source": [
    "def evolutionary_algorithm(fitness_function=None, total_generations=100, num_parents=10, num_children=10, bit_string_length=10, num_elements_to_mutate=1, crossover=True, novelty_k = 0):\n",
    "    \"\"\" Evolutinary Algorithm (copied from the basic hillclimber in our last assignment)\n",
    "        \n",
    "        parameters: \n",
    "        fitness_funciton: (callable function) that return the fitness of a genome \n",
    "                           given the genome as an input parameter (e.g. as defined in Landscape)\n",
    "        total_generations: (int) number of total iterations for stopping condition\n",
    "        num_parents: (int) the number of parents we downselect to at each generation (mu)\n",
    "        num_childre: (int) the number of children (note: parents not included in this count) that we baloon to each generation (lambda)\n",
    "        bit_string_length: (int) length of bit string genome to be evoloved\n",
    "        num_elements_to_mutate: (int) number of alleles to modify during mutation (0 = no mutation)\n",
    "        crossover (bool): whether to perform crossover when generating children \n",
    "        \n",
    "        returns:\n",
    "        fitness_over_time: (numpy array) track record of the top fitness value at each generation\n",
    "    \"\"\"\n",
    "\n",
    "    ...\n",
    "    \n",
    "    return fitness_over_time, solutions_over_time, diversity_over_time "
   ]
  },
  {
   "cell_type": "markdown",
   "metadata": {},
   "source": [
    "### Q4: Run\n",
    "Run novelty search with the same hyperparameter settings as above, and with a `novelty_k` value of `5` nearest neighbors for calculating the novelty metrics, from an archive of the `100` most novel individuals found thus far.  (My runs take about 3 seconds for each repitition)"
   ]
  },
  {
   "cell_type": "code",
   "execution_count": null,
   "metadata": {},
   "outputs": [],
   "source": [
    "num_runs = 20\n",
    "total_generations = 100\n",
    "num_elements_to_mutate = 1\n",
    "bit_string_length = 15\n",
    "num_parents = 20\n",
    "num_children = 20\n",
    "novelty_k = 5\n",
    "\n",
    "n = bit_string_length\n",
    "k = bit_string_length-1\n",
    "\n",
    "..."
   ]
  },
  {
   "cell_type": "markdown",
   "metadata": {},
   "source": [
    "### Q4b: Plot\n",
    "Please visualize the fitness and diversity over time for novelty search vs. fitness-based search"
   ]
  },
  {
   "cell_type": "code",
   "execution_count": null,
   "metadata": {},
   "outputs": [],
   "source": [
    "# plotting\n",
    "..."
   ]
  },
  {
   "cell_type": "markdown",
   "metadata": {},
   "source": [
    "### Q5: Analysis\n",
    "How does novelty search perform in this domain?  Is it what you expected?  If no, why might that be the case?"
   ]
  },
  {
   "cell_type": "markdown",
   "metadata": {},
   "source": [
    "**insert text here**"
   ]
  },
  {
   "cell_type": "markdown",
   "metadata": {},
   "source": [
    "### Q6: Larger Neighborhoods\n",
    "How might you expect the result to change if you were to use a larger neighborhood (`novelty_k` value) for calculating a soluton's novelty.  \n",
    "\n",
    "Let's try it!  Please run and plot the same settings as above, but with a `novelty_k` of `100` (i.e. using the full archive for novelty calcuation)."
   ]
  },
  {
   "cell_type": "code",
   "execution_count": null,
   "metadata": {},
   "outputs": [],
   "source": [
    "num_runs = 20\n",
    "total_generations = 100\n",
    "num_elements_to_mutate = 1\n",
    "bit_string_length = 15\n",
    "num_parents = 20\n",
    "num_children = 20\n",
    "novelty_k = 100\n",
    "\n",
    "n = bit_string_length\n",
    "k = bit_string_length-1\n",
    "\n",
    "..."
   ]
  },
  {
   "cell_type": "code",
   "execution_count": null,
   "metadata": {},
   "outputs": [],
   "source": [
    "# plotting\n",
    "..."
   ]
  },
  {
   "cell_type": "markdown",
   "metadata": {},
   "source": [
    "### Q6b: Analysis\n",
    "What happened?  Did it work better or worse?  Is this what you expected (and why)?"
   ]
  },
  {
   "cell_type": "markdown",
   "metadata": {},
   "source": [
    "**insert text here**"
   ]
  },
  {
   "cell_type": "markdown",
   "metadata": {},
   "source": [
    "### Q7: Mixed Fitness and Novelty\n",
    "As suggested in class, perhaps the best version of an evolutionary algorithm is not one that selects just for fitness or one that selects just for novelty, but one that considers both in an attempt to carefully tradeoff exploration and exploitation. \n",
    "\n",
    "We may not be the most careful and inentional with our tradeoffs here, but let's start with perhaps the simplest combination of selecting for both novelty and fitness one could think of.  Let's select some of the individuals in our population on the basis of novelty and some on the basis of fitness.  \n",
    "\n",
    "In particular, pleae define a new parameter `novelty_selection_prop` that defines what proportion of the parents for the next generation will be selected by novelty (and choose the most novel solutions to occupy that portion of the new generation) while the remainder of the new population (`1-novelty_selection_prop`) gets selected on the basis of fitness -- resulting in the same `num_parents` as before heading into the next generation.  "
   ]
  },
  {
   "cell_type": "code",
   "execution_count": null,
   "metadata": {},
   "outputs": [],
   "source": [
    "def evolutionary_algorithm(fitness_function=None, total_generations=100, num_parents=10, num_children=10, bit_string_length=10, num_elements_to_mutate=1, crossover=True, novelty_k = 0, novelty_selection_prop = 0):\n",
    "    \"\"\" Evolutinary Algorithm (copied from the basic hillclimber in our last assignment)\n",
    "        \n",
    "        parameters: \n",
    "        fitness_funciton: (callable function) that return the fitness of a genome \n",
    "                           given the genome as an input parameter (e.g. as defined in Landscape)\n",
    "        total_generations: (int) number of total iterations for stopping condition\n",
    "        num_parents: (int) the number of parents we downselect to at each generation (mu)\n",
    "        num_childre: (int) the number of children (note: parents not included in this count) that we baloon to each generation (lambda)\n",
    "        bit_string_length: (int) length of bit string genome to be evoloved\n",
    "        num_elements_to_mutate: (int) number of alleles to modify during mutation (0 = no mutation)\n",
    "        crossover (bool): whether to perform crossover when generating children \n",
    "        \n",
    "        returns:\n",
    "        fitness_over_time: (numpy array) track record of the top fitness value at each generation\n",
    "    \"\"\"\n",
    "\n",
    "    ...\n",
    "    \n",
    "    return fitness_over_time, solutions_over_time, diversity_over_time "
   ]
  },
  {
   "cell_type": "markdown",
   "metadata": {},
   "source": [
    "### Q8: Experimentation\n",
    "Let's try running this mixed selection criteria for a 50/50 split between suvivors/parents for the next generation selected via novelty vs. fitness.  Let's do this with our original novelty neighbhorhood of size 5, and all other parameters the same.  \n",
    "\n",
    "As usual, please plot fitness and diversity afterwards."
   ]
  },
  {
   "cell_type": "code",
   "execution_count": null,
   "metadata": {},
   "outputs": [],
   "source": [
    "num_runs = 20\n",
    "total_generations = 100\n",
    "num_elements_to_mutate = 1\n",
    "bit_string_length = 15\n",
    "num_parents = 20\n",
    "num_children = 20\n",
    "\n",
    "novelty_k = 5\n",
    "novelty_selection_prop = 0.5\n",
    "max_archive_length = 100\n",
    "\n",
    "n = bit_string_length\n",
    "k = bit_string_length-1\n",
    "\n",
    "..."
   ]
  },
  {
   "cell_type": "code",
   "execution_count": null,
   "metadata": {},
   "outputs": [],
   "source": [
    "# plotting\n",
    "..."
   ]
  },
  {
   "cell_type": "markdown",
   "metadata": {},
   "source": [
    "### Q9: Analysis\n",
    "What happened (to both fitness and diversity)?  Are you surprised?  Why would this be?"
   ]
  },
  {
   "cell_type": "markdown",
   "metadata": {},
   "source": [
    "**insert text here**"
   ]
  },
  {
   "cell_type": "markdown",
   "metadata": {},
   "source": [
    "### Q10:  Balancing Novelty and Fitness\n",
    "Let's run this again with a different balance of novelty vs. fitness. Please run it with 90% of survivors selected via novelty and just 10% selected via fitness, and also vise versa with just 10% novelty and 90% fitness at each generation.  Which do you expect to work better?"
   ]
  },
  {
   "cell_type": "markdown",
   "metadata": {},
   "source": [
    "**insert text here**"
   ]
  },
  {
   "cell_type": "markdown",
   "metadata": {},
   "source": [
    "### Q9b:  Running and Visualization\n",
    "Let's findout!"
   ]
  },
  {
   "cell_type": "code",
   "execution_count": null,
   "metadata": {},
   "outputs": [],
   "source": [
    "num_runs = 20\n",
    "total_generations = 100\n",
    "num_elements_to_mutate = 1\n",
    "bit_string_length = 15\n",
    "num_parents = 20\n",
    "num_children = 20\n",
    "\n",
    "novelty_k = 5\n",
    "novelty_selection_prop = ...\n",
    "max_archive_length = 100\n",
    "\n",
    "n = bit_string_length\n",
    "k = bit_string_length-1\n",
    "\n",
    "..."
   ]
  },
  {
   "cell_type": "code",
   "execution_count": null,
   "metadata": {},
   "outputs": [],
   "source": [
    "# plotting\n",
    "..."
   ]
  },
  {
   "cell_type": "markdown",
   "metadata": {},
   "source": [
    "### Q10: Analysis\n",
    "Did the experiment turn out the way you thought it would?  Why or why not?  What does this imply about the use of novelty vs. fitness in expoitation vs. exploration?  Do the diveristy plots support this idea?"
   ]
  },
  {
   "cell_type": "markdown",
   "metadata": {},
   "source": [
    "**insert text here**"
   ]
  },
  {
   "cell_type": "markdown",
   "metadata": {},
   "source": [
    "### Q11: The Effect of Ruggedness\n",
    "How much do you think the conclusions you came to above are the result of the particular (maximally rugged) fitness landscape we experiemented with?  What would happen if we used a much smoother landscale (e.g. a NK landscape with `K=0`)"
   ]
  },
  {
   "cell_type": "markdown",
   "metadata": {},
   "source": [
    "**insert text here**"
   ]
  },
  {
   "cell_type": "markdown",
   "metadata": {},
   "source": [
    "### Q12: Experiementation\n",
    "Let's find out!  Please pick your best ratio of novelty vs. fitness selection, and compare it to purely fitness and purely novelty selection on a NK landscale with `K=0`.  Please plot your results."
   ]
  },
  {
   "cell_type": "code",
   "execution_count": null,
   "metadata": {},
   "outputs": [],
   "source": [
    "num_runs = 20\n",
    "total_generations = 100\n",
    "num_elements_to_mutate = 1\n",
    "bit_string_length = 15\n",
    "num_parents = 20\n",
    "num_children = 20\n",
    "\n",
    "novelty_k = 5\n",
    "novelty_selection_prop = ...\n",
    "max_archive_length = 100\n",
    "\n",
    "n = bit_string_length\n",
    "k = 0\n",
    "\n",
    "..."
   ]
  },
  {
   "cell_type": "code",
   "execution_count": null,
   "metadata": {},
   "outputs": [],
   "source": [
    "# plotting\n",
    "..."
   ]
  },
  {
   "cell_type": "markdown",
   "metadata": {},
   "source": [
    "### Q12b:  Analysis\n",
    "Were you right?  Was novelty, or novelty+fitness helpful?  Was it harmful?  What was the effect on diversity?"
   ]
  },
  {
   "cell_type": "markdown",
   "metadata": {},
   "source": [
    "**insert text here**"
   ]
  },
  {
   "cell_type": "markdown",
   "metadata": {},
   "source": [
    "### Q13: Future Work\n",
    "In this assignment we explored just one (very simple) way to combine novelty and fitness, how else might you want to do this that could be more effetive (and why)?"
   ]
  },
  {
   "cell_type": "markdown",
   "metadata": {},
   "source": [
    "**insert text here**"
   ]
  },
  {
   "cell_type": "markdown",
   "metadata": {},
   "source": [
    "### Congratulations, you made it to the end!\n",
    "Nice work -- and hopefully you're starting to get the hang of these!\n",
    "\n",
    "Please save this file as a .ipynb, and also download it as a .pdf, uploading **both** to blackboard to complete this assignment.  \n",
    "\n",
    "For your submission, please make sure that you have renamed this file (and that the resulting pdf follows suit) to replce `[netid]` with your UVM netid.  This will greatly simplify our grading pipeline, and make sure that you receive credit for your work.  "
   ]
  },
  {
   "cell_type": "markdown",
   "metadata": {},
   "source": [
    "#### Academic Integrity Attribution\n",
    "During this assignment I collaborated with:"
   ]
  },
  {
   "cell_type": "markdown",
   "metadata": {},
   "source": [
    "**insert text here**"
   ]
  }
 ],
 "metadata": {
  "kernelspec": {
   "display_name": "Python 3",
   "language": "python",
   "name": "python3"
  },
  "language_info": {
   "codemirror_mode": {
    "name": "ipython",
    "version": 3
   },
   "file_extension": ".py",
   "mimetype": "text/x-python",
   "name": "python",
   "nbconvert_exporter": "python",
   "pygments_lexer": "ipython3",
   "version": "3.8.3"
  }
 },
 "nbformat": 4,
 "nbformat_minor": 2
}
