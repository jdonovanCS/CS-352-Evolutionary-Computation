{
 "cells": [
  {
   "cell_type": "markdown",
   "metadata": {},
   "source": [
    "# Assignment 1: Jupyter Notebooks and Objects in Python\n",
    "Congratulation, if you've made it this far, you're already done the first part, get a Jupyter notebook up and running!  \n",
    "\n",
    "Hopefully you're somewhat familiar with Python syntax and numpy to follow along with what's below.  If not (and even if you're even a tiny bit shakey in it, or don't already know all the nuances), I would highly recommend checking out [Prof. Bagrow (via  Jake VanderPlas)'s Whirlwind Tour of Python](https://bagrow.com/ds1/WhirlwindTourPython-STATCS287.pdf) for a quick intro to syntax, as well as to your first steps with numpy and matplotlib (which you'll be using here).  \n",
    "\n",
    "We'll also be reviewing (or for some perhaps introducing) the concept of object-orientied programming in python.\n",
    "\n",
    "For those of you not familiar with navigating Jupyter notebooks, there are many resources online, and it becomes especially hepful to become familiar with the [keyboard shortcuts](https://towardsdatascience.com/jypyter-notebook-shortcuts-bf0101a98330).  Please also note that cells are executed in the order that they are run by you, not the order that they necessarily appear on the screen -- so be careful about skipping over blocks or editing previously run blocks.  When in doubt, the `Kernel -> Restart & Run All` command can ensure that the cells are re-executed in the order they appear.  \n",
    "\n",
    "To get you started, some commenting and code has been included.  To complete this assignment you will need to fill in any elipses (which may be a placeholder for just single line or a large block of code) with functining (and well commented) code of your own.  "
   ]
  },
  {
   "cell_type": "code",
   "execution_count": 1,
   "metadata": {},
   "outputs": [],
   "source": [
    "# import packages\n",
    "\n",
    "import numpy as np # numpy for arrays\n",
    "\n",
    "import matplotlib.pyplot as plt # matplotib for plotting\n",
    "plt.style.use('seaborn') # for style points"
   ]
  },
  {
   "cell_type": "markdown",
   "metadata": {},
   "source": [
    "### Q1: Arrays\n",
    "The Fibonacci sequence is an example of simple generateive process.  In the sequence, the value of a given entry is the sum of the two entiries preceeding it (e.g. `0, 1, 1, 2, 3, ...`).  \n",
    "\n",
    "Generate a (numpy) array of length 15 that contains the Fibonacci sequence, starting from the initial values 0 and 1 in the first two entries. \n",
    "\n",
    "(no need to be fancy, you can just use a for-loop)"
   ]
  },
  {
   "cell_type": "code",
   "execution_count": 2,
   "metadata": {},
   "outputs": [
    {
     "name": "stdout",
     "output_type": "stream",
     "text": [
      "Fibonacci Sequence: [0, 1, 1, 2, 3, 5, 8, 13, 21, 34, 55, 89, 144, 233, 377]\n"
     ]
    }
   ],
   "source": [
    "# hyperparameters\n",
    "total_iterations = 15\n",
    "\n",
    "# initialization\n",
    "values_over_time = [0, 1]\n",
    "\n",
    "\n",
    "# generate sequence\n",
    "for i in range(15-2):\n",
    "    values_over_time.append(values_over_time[-1]+values_over_time[-2])\n",
    "\n",
    "\n",
    "# display values\n",
    "print(\"Fibonacci Sequence:\",values_over_time)"
   ]
  },
  {
   "cell_type": "markdown",
   "metadata": {},
   "source": [
    "### Q2: Plotting\n",
    "Now let's plot this sequence.  Don't forget to always include axes labels and a legend.  If you've never done this before [Examples using matplotlib.pyplot.plot](https://matplotlib.org/stable/api/_as_gen/matplotlib.pyplot.plot.html?highlight=plot#examples-using-matplotlib-pyplot-plot) is a good place to start.  Your plot should look something vaguely resembling this: \n",
    "\n",
    "<img src=\"fib_example.png\" align=\"left\"/>"
   ]
  },
  {
   "cell_type": "code",
   "execution_count": 4,
   "metadata": {
    "scrolled": false
   },
   "outputs": [
    {
     "data": {
      "image/png": "[encoded data removed]",
      "text/plain": [
       "<Figure size 432x288 with 1 Axes>"
      ]
     },
     "metadata": {
      "needs_background": "light"
     },
     "output_type": "display_data"
    }
   ],
   "source": [
    "plt.plot(values_over_time)\n",
    "plt.xlabel = \"iteration\"\n",
    "plt.ylabel = \"value\"\n",
    "plt.legend([\"Fibanocci sequence\"])\n",
    "plt.show()"
   ]
  },
  {
   "cell_type": "markdown",
   "metadata": {},
   "source": [
    "### Q3: Objects and Classes\n",
    "Object-oriented programming excels at it's ability to easily maniupate the attributes of different instances of the same class.  Let's review object-oriented programming (or learn about it via [one of the many quick online tutorials on the topic](https://realpython.com/python3-object-oriented-programming/)) in python by implementing a `Finbonacci_Experiment(first_value, second_value)` class which will let you dictate the starting values of a sequence"
   ]
  },
  {
   "cell_type": "code",
   "execution_count": 8,
   "metadata": {},
   "outputs": [],
   "source": [
    "class Fibonacci_Experiment:\n",
    "    def __init__(self, first_value, second_value):\n",
    "        self.first_value = first_value\n",
    "        self.second_value = second_value\n",
    "        \n",
    "    def run(self, total_iterations):\n",
    "        values_over_time = [self.first_value, self.second_value]\n",
    "        for i in range(total_iterations):\n",
    "            values_over_time.append(values_over_time[-1]+values_over_time[-2])\n",
    "        return values_over_time\n",
    "    "
   ]
  },
  {
   "cell_type": "markdown",
   "metadata": {},
   "source": [
    "Now let's use instances of this class to plot (on the same figure) three fibonacci experiments: one with the starting two values of `(0, 1)`; one with the starting values `(1, 5)`; and one with the starting values `(7, 0)`. "
   ]
  },
  {
   "cell_type": "code",
   "execution_count": 9,
   "metadata": {},
   "outputs": [
    {
     "name": "stdout",
     "output_type": "stream",
     "text": [
      "[0, 1, 1, 2, 3, 5, 8, 13, 21, 34, 55, 89, 144, 233, 377, 610, 987]\n",
      "[1, 5, 6, 11, 17, 28, 45, 73, 118, 191, 309, 500, 809, 1309, 2118, 3427, 5545]\n",
      "[7, 0, 7, 7, 14, 21, 35, 56, 91, 147, 238, 385, 623, 1008, 1631, 2639, 4270]\n"
     ]
    }
   ],
   "source": [
    "one = Fibonacci_Experiment(0,1)\n",
    "two = Fibonacci_Experiment(1,5)\n",
    "three = Fibonacci_Experiment(7,0)\n",
    "\n",
    "print(one.run(15))\n",
    "print(two.run(15))\n",
    "print(three.run(15))"
   ]
  },
  {
   "cell_type": "markdown",
   "metadata": {},
   "source": [
    "### Q4: Why did we do this?\n",
    "Python is a fantastic scripting language, but many people never use it for object oriented programming.  So there must be some reason why it's being introduced here...  Besides easily generating many replications or variatons of an experiment, how else might object oriented programming be helpful for Evolutionary Computation in particular?\n",
    "\n",
    "*(Type your response into the markdown cell below)*"
   ]
  },
  {
   "cell_type": "markdown",
   "metadata": {},
   "source": [
    "**My initial thoughts on its usefulness in EC is for creating objects or organisms or whatever we happen to be evolving.\n",
    "This would allow us to have numerous objects that all have the same structure but that could evolve in a specifically \n",
    "defined manner that we can manipulate easily. It also allows us to update and experiment with this structure.**\n",
    "\n",
    "### Congratulations, you made it through your first programming assignment! \n",
    "Please save this file as a .ipynb, and also download it as a .pdf, uploading **both** to blackboard to complete this assignment.  \n",
    "\n",
    "For your submission, please make sure that you have renamed this file (and that the resulting pdf follows suit) to replce `[netid]` with your UVM netid.  This will greatly simplify our grading pipeline, and make sure that you receive credit for your work.  "
   ]
  },
  {
   "cell_type": "markdown",
   "metadata": {},
   "source": [
    "#### Academic Integrity Attribution\n",
    "During this assignment I collaborated with:"
   ]
  },
  {
   "cell_type": "markdown",
   "metadata": {},
   "source": [
    "**Just me this time :)**"
   ]
  },
  {
   "cell_type": "code",
   "execution_count": null,
   "metadata": {},
   "outputs": [],
   "source": []
  }
 ],
 "metadata": {
  "kernelspec": {
   "display_name": "Python 3",
   "language": "python",
   "name": "python3"
  },
  "language_info": {
   "codemirror_mode": {
    "name": "ipython",
    "version": 3
   },
   "file_extension": ".py",
   "mimetype": "text/x-python",
   "name": "python",
   "nbconvert_exporter": "python",
   "pygments_lexer": "ipython3",
   "version": "3.7.1"
  }
 },
 "nbformat": 4,
 "nbformat_minor": 2
}
